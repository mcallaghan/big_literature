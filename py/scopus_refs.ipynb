{
 "cells": [
  {
   "cell_type": "code",
   "execution_count": null,
   "metadata": {
    "collapsed": true,
    "deletable": true,
    "editable": true
   },
   "outputs": [],
   "source": []
  },
  {
   "cell_type": "code",
   "execution_count": 26,
   "metadata": {
    "collapsed": false,
    "deletable": true,
    "editable": true
   },
   "outputs": [],
   "source": [
    "import os, sys, time, resource, re, gc, shutil\n",
    "from multiprocess import Pool\n",
    "from functools import partial\n",
    "from mongoengine import *\n",
    "from urllib.parse import urlparse, parse_qsl\n",
    "connect('mongoengine_documents')\n",
    "import matplotlib.pyplot as plt\n",
    "import numpy as np\n",
    "import pandas as pd\n",
    "\n",
    "from mongo_classes import *"
   ]
  },
  {
   "cell_type": "code",
   "execution_count": 3,
   "metadata": {
    "collapsed": false,
    "deletable": true,
    "editable": true
   },
   "outputs": [
    {
     "name": "stdout",
     "output_type": "stream",
     "text": [
      "676711\n"
     ]
    }
   ],
   "source": [
    "print(similarity.objects.count())\n"
   ]
  },
  {
   "cell_type": "code",
   "execution_count": 51,
   "metadata": {
    "collapsed": false,
    "deletable": true,
    "editable": true
   },
   "outputs": [],
   "source": [
    "total_refs = scopus_ref.objects\n",
    "climate_refs = scopus_ref.objects.filter(text__icontains=\"climate change\")\n",
    "#climate_refs_n = climate_refs.count()"
   ]
  },
  {
   "cell_type": "code",
   "execution_count": 122,
   "metadata": {
    "collapsed": false
   },
   "outputs": [
    {
     "name": "stdout",
     "output_type": "stream",
     "text": [
      "378576\n"
     ]
    }
   ],
   "source": [
    "print(climate_refs.count())"
   ]
  },
  {
   "cell_type": "code",
   "execution_count": 123,
   "metadata": {
    "collapsed": false
   },
   "outputs": [
    {
     "name": "stdout",
     "output_type": "stream",
     "text": [
      "373014\n",
      "5562\n"
     ]
    }
   ],
   "source": [
    "print(scopus_ref.objects.filter(text__icontains=\"climate change\",PY__exists=1).count())\n",
    "print(scopus_ref.objects.filter(text__icontains=\"climate change\",PY__exists=0).count())"
   ]
  },
  {
   "cell_type": "code",
   "execution_count": 5,
   "metadata": {
    "collapsed": false,
    "deletable": true,
    "editable": true
   },
   "outputs": [
    {
     "name": "stdout",
     "output_type": "stream",
     "text": [
      "6264900\n"
     ]
    }
   ],
   "source": [
    "print(total_refs.count())"
   ]
  },
  {
   "cell_type": "code",
   "execution_count": 6,
   "metadata": {
    "collapsed": false,
    "deletable": true,
    "editable": true
   },
   "outputs": [
    {
     "ename": "NameError",
     "evalue": "name 'climate_refs_n' is not defined",
     "output_type": "error",
     "traceback": [
      "\u001b[0;31m---------------------------------------------------------------------------\u001b[0m",
      "\u001b[0;31mNameError\u001b[0m                                 Traceback (most recent call last)",
      "\u001b[0;32m<ipython-input-6-b1cc4a56981f>\u001b[0m in \u001b[0;36m<module>\u001b[0;34m()\u001b[0m\n\u001b[0;32m----> 1\u001b[0;31m \u001b[0mprint\u001b[0m\u001b[0;34m(\u001b[0m\u001b[0mclimate_refs_n\u001b[0m\u001b[0;34m)\u001b[0m\u001b[0;34m\u001b[0m\u001b[0m\n\u001b[0m",
      "\u001b[0;31mNameError\u001b[0m: name 'climate_refs_n' is not defined"
     ]
    }
   ],
   "source": [
    "print(climate_refs_n)"
   ]
  },
  {
   "cell_type": "code",
   "execution_count": 5,
   "metadata": {
    "collapsed": false,
    "deletable": true,
    "editable": true
   },
   "outputs": [
    {
     "name": "stdout",
     "output_type": "stream",
     "text": [
      "381396\n",
      "40806\n"
     ]
    }
   ],
   "source": [
    "sdocs = scopus_doc.objects\n",
    "print(sdocs.count())\n",
    "climate_sdocs = sdocs.filter(TI__icontains=\"climate change\").count()\n",
    "print(climate_sdocs)"
   ]
  },
  {
   "cell_type": "code",
   "execution_count": 38,
   "metadata": {
    "collapsed": false,
    "deletable": true,
    "editable": true
   },
   "outputs": [
    {
     "data": {
      "image/png": "[encoded data removed]",
      "text/plain": [
       "<matplotlib.figure.Figure at 0x7ff576b29c50>"
      ]
     },
     "metadata": {},
     "output_type": "display_data"
    }
   ],
   "source": [
    "fig_size = [None,None]\n",
    "fig_size[0] = 12\n",
    "fig_size[1] = 12\n",
    "plt.rcParams[\"figure.figsize\"] = fig_size\n",
    "\n",
    "ind = np.arange(2)\n",
    "ind2 = ind + width\n",
    "width = 0.45\n",
    "\n",
    "trefs = [sdocs.count(),total_refs.count()]\n",
    "crefs = [climate_sdocs,climate_refs_n]\n",
    "\n",
    "fig,ax = plt.subplots()\n",
    "\n",
    "p1 = ax.bar(ind,trefs,color='#fbb4ae',width=width)\n",
    "p2 = ax.bar(ind+width,crefs,color='#b3cde3',width=width)\n",
    "\n",
    "def autolabel(rects):\n",
    "    \"\"\"\n",
    "    Attach a text label above each bar displaying its height\n",
    "    \"\"\"\n",
    "    for rect in rects:\n",
    "        height = rect.get_height()\n",
    "        ax.text(rect.get_x() + rect.get_width()/2., height+10000,\n",
    "                '%s' % format(int(height),','),\n",
    "                ha='center', va='bottom')\n",
    "        \n",
    "autolabel(p1)\n",
    "autolabel(p2)\n",
    "\n",
    "plt.xticks(ind+width/2,('Scopus Query','Scopus References'))\n",
    "plt.legend((p1[0],p2[0]),('All','\"Climate Change\"\\n in title'))\n",
    "\n",
    "plt.savefig('../plots/scopus_docs_refs.png',bbox_inches='tight')\n",
    "plt.show()\n"
   ]
  },
  {
   "cell_type": "code",
   "execution_count": 57,
   "metadata": {
    "collapsed": false,
    "deletable": true,
    "editable": true
   },
   "outputs": [],
   "source": [
    "pipeline = [\n",
    "    {\"$match\": {\"PY\": {\"$exists\": 1 }}},\n",
    "    {\"$group\" : {\"_id\":\"$PY\", \"count\":{\"$sum\":1}}}\n",
    "]\n",
    "py_results = list(scopus_ref.objects.aggregate(*pipeline))\n",
    "\n",
    "\n",
    "nopy_results = scopus_doc.objects.filter(PY__exists=0).count()"
   ]
  },
  {
   "cell_type": "code",
   "execution_count": null,
   "metadata": {
    "collapsed": false
   },
   "outputs": [],
   "source": [
    "pipeline = [\n",
    "    {\"$group\" : {\"_id\":\"$PY\", \"count\":{\"$sum\":1}}}\n",
    "]\n",
    "clipy_results = list(scopus_ref.objects.filter(text__icontains=\"climate change\",PY__exists=1).aggregate(*pipeline))"
   ]
  },
  {
   "cell_type": "code",
   "execution_count": 71,
   "metadata": {
    "collapsed": false
   },
   "outputs": [],
   "source": [
    "nopy_results = scopus_ref.objects.filter(PY__exists=0).count()\n",
    "clinopy_results = scopus_ref.objects.filter(text__icontains=\"climate change\",PY__exists=0).count()"
   ]
  },
  {
   "cell_type": "code",
   "execution_count": 126,
   "metadata": {
    "collapsed": false
   },
   "outputs": [],
   "source": [
    "pipeline = [\n",
    "    {\"$group\" : {\"_id\":\"$PY\", \"count\":{\"$sum\":1}}}\n",
    "]\n",
    "doc_results = list(scopus_doc.objects.aggregate(*pipeline))"
   ]
  },
  {
   "cell_type": "code",
   "execution_count": 62,
   "metadata": {
    "collapsed": true
   },
   "outputs": [],
   "source": [
    "pipeline = [\n",
    "    {\"$match\": {\"TI\": {\"$regex\": \".*climate change.*\" }}},\n",
    "    {\"$group\" : {\"_id\":\"$PY\", \"count\":{\"$sum\":1}}}\n",
    "]\n",
    "clidoc_results = list(scopus_doc.objects.aggregate(*pipeline))"
   ]
  },
  {
   "cell_type": "code",
   "execution_count": null,
   "metadata": {
    "collapsed": true
   },
   "outputs": [],
   "source": []
  },
  {
   "cell_type": "code",
   "execution_count": 121,
   "metadata": {
    "collapsed": false
   },
   "outputs": [
    {
     "data": {
      "text/plain": [
       "5562"
      ]
     },
     "execution_count": 121,
     "metadata": {},
     "output_type": "execute_result"
    }
   ],
   "source": [
    "clinopy_results\n",
    "\n"
   ]
  },
  {
   "cell_type": "code",
   "execution_count": 125,
   "metadata": {
    "collapsed": false
   },
   "outputs": [
    {
     "name": "stdout",
     "output_type": "stream",
     "text": [
      "      _id  cref_count\n",
      "0    1895           1\n",
      "1    1907           1\n",
      "2    1431           1\n",
      "3    1853           1\n",
      "4    5954           1\n",
      "5    1722           1\n",
      "6    1876           1\n",
      "7    2203           1\n",
      "8    1923           1\n",
      "9    6455           1\n",
      "10   1933           1\n",
      "11   1922           1\n",
      "12   1959           2\n",
      "13   1942           1\n",
      "14   1886           1\n",
      "15   1860           3\n",
      "16   5341           1\n",
      "17   1686           1\n",
      "18   1857           1\n",
      "19   1649           1\n",
      "20   1930           2\n",
      "21   1834           1\n",
      "22   1985         134\n",
      "23   2016         646\n",
      "24   1919           3\n",
      "25   2011       15069\n",
      "26   2010       16564\n",
      "27   1913           1\n",
      "28   2002        6387\n",
      "29   1999        3891\n",
      "..    ...         ...\n",
      "94   1948           1\n",
      "95   1771           1\n",
      "96   1970          24\n",
      "97   1961           5\n",
      "98   1957           5\n",
      "99   1950           2\n",
      "100  1945           3\n",
      "101  1974          11\n",
      "102  1877           1\n",
      "103  1943           1\n",
      "104  1963           7\n",
      "105  1940           2\n",
      "106  1968          15\n",
      "107  1962          10\n",
      "108  1934           3\n",
      "109  1980          82\n",
      "110  2111           1\n",
      "111  1936          10\n",
      "112  1953           3\n",
      "113  1939           1\n",
      "114  1858           1\n",
      "115  1955           2\n",
      "116  1850           1\n",
      "117  1941           3\n",
      "118  1964           4\n",
      "119  1566           1\n",
      "120  1840           1\n",
      "121  1920           1\n",
      "122  1944           1\n",
      "123  1949           2\n",
      "\n",
      "[124 rows x 2 columns]\n",
      "191733\n",
      "2030\n",
      "    _id  ref_count  doc_count  cref_count  cdoc_count  ncref_count  \\\n",
      "0  2006     313436      12073       10817         819       302619   \n",
      "1  2015      78804      36922        3375        3192        75429   \n",
      "2  1974      18437        124          11           1        18426   \n",
      "3  1988      53585        749         378          36        53207   \n",
      "4  1975      19583        147          35           3        19548   \n",
      "\n",
      "   ncdoc_count  \n",
      "0        11254  \n",
      "1        33730  \n",
      "2          123  \n",
      "3          713  \n",
      "4          144  \n"
     ]
    },
    {
     "data": {
      "image/png": "[encoded data removed]",
      "text/plain": [
       "<matplotlib.figure.Figure at 0x7ff9ad9e8080>"
      ]
     },
     "metadata": {},
     "output_type": "display_data"
    }
   ],
   "source": [
    "py = pd.DataFrame.from_dict(py_results).rename(index=str,columns={\"count\": \"ref_count\"})\n",
    "cp = pd.DataFrame.from_dict(clipy_results).rename(index=str,columns={\"count\": \"cref_count\"})\n",
    "\n",
    "print(cp)\n",
    "\n",
    "print(cp.cref_count.sum())\n",
    "\n",
    "dy = pd.DataFrame.from_dict(doc_results).rename(index=str,columns={\"count\": \"doc_count\"})\n",
    "cdy = pd.DataFrame.from_dict(clidoc_results).rename(index=str,columns={\"count\": \"cdoc_count\"})\n",
    "\n",
    "bad_refs = py[(py['_id']<1800) | (py['_id']>2016)].ref_count.sum()\n",
    "bad_crefs = cp[(cp['_id']<1800) | (cp['_id']>2016)].cref_count.sum()\n",
    "\n",
    "other_crefs = cp[(cp['_id']<1990) & (cp['_id']>1800)].cref_count.sum()\n",
    "\n",
    "print(other_crefs)\n",
    "\n",
    "\n",
    "\n",
    "py = py.merge(dy).merge(cp).merge(cdy)\n",
    "\n",
    "py['ncref_count'] = py.apply(lambda x: x['ref_count'] - x['cref_count'],axis=1)\n",
    "py['ncdoc_count'] = py.apply(lambda x: x['doc_count'] - x['cdoc_count'],axis=1)\n",
    "\n",
    "    \n",
    "print(py.head())\n",
    "\n",
    "py = py[(py['ref_count']>10) & (py['_id']>1970)]\n",
    "\n",
    "\n",
    "width = 0.45\n",
    "\n",
    "py = py.sort_values(by='_id', ascending=1).reset_index(drop=True)\n",
    "\n",
    "fig_size = [None,None]\n",
    "fig_size[0] = 12 #width\n",
    "fig_size[1] = 8 #height\n",
    "plt.rcParams[\"figure.figsize\"] = fig_size\n",
    "\n",
    "fig, ax = plt.subplots()\n",
    "\n",
    "p0 = ax.bar(py._id,py['cref_count'],color='#fbb4ae',width=width)\n",
    "p1 = ax.bar(py._id,py['ncref_count'],color='#fbb4ae',width=width,bottom=py['cref_count'],alpha=0.5)\n",
    "p2 = ax.bar(py._id+width,py['cdoc_count'],color='#b3cde3',width=width)\n",
    "p3 = ax.bar(py._id+width,py['ncdoc_count'],color='#b3cde3',width=width,bottom=py['cdoc_count'],alpha=0.5)\n",
    "\n",
    "p4 = ax.bar(2020,nopy_results+bad_refs,color='#fbb4ae',width=width,alpha=0.5)\n",
    "p4 = ax.bar(2020,clinopy_results+bad_crefs,color='#fbb4ae',width=width)\n",
    "\n",
    "# Draw the figure so we can change the x ticks\n",
    "fig.canvas.draw()\n",
    "labels = [item.get_text() for item in ax.get_xticklabels()]\n",
    "labels[-2] = 'Unknown Year'\n",
    "ax.set_xticklabels(labels)\n",
    "\n",
    "ax.legend((p0[0],p1[0],p2[0],p3[0]),('Climate References','All References','Climate Docs','All Docs'))\n",
    "plt.savefig('../plots/scopus_docs_refs_time.png',bbox_inches='tight')\n",
    "plt.show()"
   ]
  },
  {
   "cell_type": "code",
   "execution_count": null,
   "metadata": {
    "collapsed": true
   },
   "outputs": [],
   "source": []
  }
 ],
 "metadata": {
  "kernelspec": {
   "display_name": "Python 3",
   "language": "python",
   "name": "python3"
  },
  "language_info": {
   "codemirror_mode": {
    "name": "ipython",
    "version": 3
   },
   "file_extension": ".py",
   "mimetype": "text/x-python",
   "name": "python",
   "nbconvert_exporter": "python",
   "pygments_lexer": "ipython3",
   "version": "3.4.3"
  }
 },
 "nbformat": 4,
 "nbformat_minor": 2
}
