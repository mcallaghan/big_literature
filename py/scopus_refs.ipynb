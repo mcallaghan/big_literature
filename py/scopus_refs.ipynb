{
 "cells": [
  {
   "cell_type": "code",
   "execution_count": null,
   "metadata": {
    "collapsed": true,
    "deletable": true,
    "editable": true
   },
   "outputs": [],
   "source": []
  },
  {
   "cell_type": "code",
   "execution_count": 26,
   "metadata": {
    "collapsed": false,
    "deletable": true,
    "editable": true
   },
   "outputs": [],
   "source": [
    "import os, sys, time, resource, re, gc, shutil\n",
    "from multiprocess import Pool\n",
    "from functools import partial\n",
    "from mongoengine import *\n",
    "from urllib.parse import urlparse, parse_qsl\n",
    "connect('mongoengine_documents')\n",
    "import matplotlib.pyplot as plt\n",
    "import numpy as np\n",
    "import pandas as pd\n",
    "\n",
    "from mongo_classes import *"
   ]
  },
  {
   "cell_type": "code",
   "execution_count": 3,
   "metadata": {
    "collapsed": false,
    "deletable": true,
    "editable": true
   },
   "outputs": [
    {
     "name": "stdout",
     "output_type": "stream",
     "text": [
      "676711\n"
     ]
    }
   ],
   "source": [
    "print(similarity.objects.count())\n"
   ]
  },
  {
   "cell_type": "code",
   "execution_count": 51,
   "metadata": {
    "collapsed": false,
    "deletable": true,
    "editable": true
   },
   "outputs": [],
   "source": [
    "total_refs = scopus_ref.objects\n",
    "climate_refs = scopus_ref.objects.filter(text__icontains=\"climate change\")\n",
    "#climate_refs_n = climate_refs.count()"
   ]
  },
  {
   "cell_type": "code",
   "execution_count": 122,
   "metadata": {
    "collapsed": false
   },
   "outputs": [
    {
     "name": "stdout",
     "output_type": "stream",
     "text": [
      "378576\n"
     ]
    }
   ],
   "source": [
    "print(climate_refs.count())"
   ]
  },
  {
   "cell_type": "code",
   "execution_count": 123,
   "metadata": {
    "collapsed": false
   },
   "outputs": [
    {
     "name": "stdout",
     "output_type": "stream",
     "text": [
      "373014\n",
      "5562\n"
     ]
    }
   ],
   "source": [
    "print(scopus_ref.objects.filter(text__icontains=\"climate change\",PY__exists=1).count())\n",
    "print(scopus_ref.objects.filter(text__icontains=\"climate change\",PY__exists=0).count())"
   ]
  },
  {
   "cell_type": "code",
   "execution_count": 5,
   "metadata": {
    "collapsed": false,
    "deletable": true,
    "editable": true
   },
   "outputs": [
    {
     "name": "stdout",
     "output_type": "stream",
     "text": [
      "6264900\n"
     ]
    }
   ],
   "source": [
    "print(total_refs.count())"
   ]
  },
  {
   "cell_type": "code",
   "execution_count": 6,
   "metadata": {
    "collapsed": false,
    "deletable": true,
    "editable": true
   },
   "outputs": [
    {
     "ename": "NameError",
     "evalue": "name 'climate_refs_n' is not defined",
     "output_type": "error",
     "traceback": [
      "\u001b[0;31m---------------------------------------------------------------------------\u001b[0m",
      "\u001b[0;31mNameError\u001b[0m                                 Traceback (most recent call last)",
      "\u001b[0;32m<ipython-input-6-b1cc4a56981f>\u001b[0m in \u001b[0;36m<module>\u001b[0;34m()\u001b[0m\n\u001b[0;32m----> 1\u001b[0;31m \u001b[0mprint\u001b[0m\u001b[0;34m(\u001b[0m\u001b[0mclimate_refs_n\u001b[0m\u001b[0;34m)\u001b[0m\u001b[0;34m\u001b[0m\u001b[0m\n\u001b[0m",
      "\u001b[0;31mNameError\u001b[0m: name 'climate_refs_n' is not defined"
     ]
    }
   ],
   "source": [
    "print(climate_refs_n)"
   ]
  },
  {
   "cell_type": "code",
   "execution_count": 5,
   "metadata": {
    "collapsed": false,
    "deletable": true,
    "editable": true
   },
   "outputs": [
    {
     "name": "stdout",
     "output_type": "stream",
     "text": [
      "381396\n",
      "40806\n"
     ]
    }
   ],
   "source": [
    "sdocs = scopus_doc.objects\n",
    "print(sdocs.count())\n",
    "climate_sdocs = sdocs.filter(TI__icontains=\"climate change\").count()\n",
    "print(climate_sdocs)"
   ]
  },
  {
   "cell_type": "code",
   "execution_count": 38,
   "metadata": {
    "collapsed": false,
    "deletable": true,
    "editable": true
   },
   "outputs": [
    {
     "data": {
      "image/png": "[encoded data removed]",
      "text/plain": [
       "<matplotlib.figure.Figure at 0x7ff576b29c50>"
      ]
     },
     "metadata": {},
     "output_type": "display_data"
    }
   ],
   "source": [
    "fig_size = [None,None]\n",
    "fig_size[0] = 12\n",
    "fig_size[1] = 12\n",
    "plt.rcParams[\"figure.figsize\"] = fig_size\n",
    "\n",
    "ind = np.arange(2)\n",
    "ind2 = ind + width\n",
    "width = 0.45\n",
    "\n",
    "trefs = [sdocs.count(),total_refs.count()]\n",
    "crefs = [climate_sdocs,climate_refs_n]\n",
    "\n",
    "fig,ax = plt.subplots()\n",
    "\n",
    "p1 = ax.bar(ind,trefs,color='#fbb4ae',width=width)\n",
    "p2 = ax.bar(ind+width,crefs,color='#b3cde3',width=width)\n",
    "\n",
    "def autolabel(rects):\n",
    "    \"\"\"\n",
    "    Attach a text label above each bar displaying its height\n",
    "    \"\"\"\n",
    "    for rect in rects:\n",
    "        height = rect.get_height()\n",
    "        ax.text(rect.get_x() + rect.get_width()/2., height+10000,\n",
    "                '%s' % format(int(height),','),\n",
    "                ha='center', va='bottom')\n",
    "        \n",
    "autolabel(p1)\n",
    "autolabel(p2)\n",
    "\n",
    "plt.xticks(ind+width/2,('Scopus Query','Scopus References'))\n",
    "plt.legend((p1[0],p2[0]),('All','\"Climate Change\"\\n in title'))\n",
    "\n",
    "plt.savefig('../plots/scopus_docs_refs.png',bbox_inches='tight')\n",
    "plt.show()\n"
   ]
  },
  {
   "cell_type": "code",
   "execution_count": 57,
   "metadata": {
    "collapsed": false,
    "deletable": true,
    "editable": true
   },
   "outputs": [],
   "source": [
    "pipeline = [\n",
    "    {\"$match\": {\"PY\": {\"$exists\": 1 }}},\n",
    "    {\"$group\" : {\"_id\":\"$PY\", \"count\":{\"$sum\":1}}}\n",
    "]\n",
    "py_results = list(scopus_ref.objects.aggregate(*pipeline))\n",
    "\n",
    "\n",
    "nopy_results = scopus_doc.objects.filter(PY__exists=0).count()"
   ]
  },
  {
   "cell_type": "code",
   "execution_count": 127,
   "metadata": {
    "collapsed": false
   },
   "outputs": [],
   "source": [
    "pipeline = [\n",
    "    {\"$group\" : {\"_id\":\"$PY\", \"count\":{\"$sum\":1}}}\n",
    "]\n",
    "clipy_results = list(scopus_ref.objects.filter(text__icontains=\"climate change\",PY__exists=1).aggregate(*pipeline))"
   ]
  },
  {
   "cell_type": "code",
   "execution_count": 71,
   "metadata": {
    "collapsed": false
   },
   "outputs": [],
   "source": [
    "nopy_results = scopus_ref.objects.filter(PY__exists=0).count()\n",
    "clinopy_results = scopus_ref.objects.filter(text__icontains=\"climate change\",PY__exists=0).count()"
   ]
  },
  {
   "cell_type": "code",
   "execution_count": 130,
   "metadata": {
    "collapsed": false
   },
   "outputs": [],
   "source": [
    "pipeline = [\n",
    "    {\"$group\" : {\"_id\":\"$PY\", \"count\":{\"$sum\":1}}}\n",
    "]\n",
    "doc_results = list(scopus_doc.objects.aggregate(*pipeline))"
   ]
  },
  {
   "cell_type": "code",
   "execution_count": 62,
   "metadata": {
    "collapsed": true
   },
   "outputs": [],
   "source": [
    "pipeline = [\n",
    "    {\"$match\": {\"TI\": {\"$regex\": \".*climate change.*\" }}},\n",
    "    {\"$group\" : {\"_id\":\"$PY\", \"count\":{\"$sum\":1}}}\n",
    "]\n",
    "clidoc_results = list(scopus_doc.objects.aggregate(*pipeline))"
   ]
  },
  {
   "cell_type": "code",
   "execution_count": null,
   "metadata": {
    "collapsed": true
   },
   "outputs": [],
   "source": []
  },
  {
   "cell_type": "code",
   "execution_count": 121,
   "metadata": {
    "collapsed": false
   },
   "outputs": [
    {
     "data": {
      "text/plain": [
       "5562"
      ]
     },
     "execution_count": 121,
     "metadata": {},
     "output_type": "execute_result"
    }
   ],
   "source": [
    "clinopy_results\n",
    "\n"
   ]
  },
  {
   "cell_type": "code",
   "execution_count": 151,
   "metadata": {
    "collapsed": false
   },
   "outputs": [
    {
     "name": "stdout",
     "output_type": "stream",
     "text": [
      "4002\n",
      "    _id  ref_count  doc_count  cref_count  cdoc_count  ncref_count  \\\n",
      "0  1971      13861         90          24           2        13837   \n",
      "1  1973      17140        124          42           1        17098   \n",
      "2  1974      18437        124          30           1        18407   \n",
      "3  1975      19583        147          70           3        19513   \n",
      "4  1977      24712        155         101           3        24611   \n",
      "\n",
      "   ncdoc_count  doc_growth  ref_growth  ref_diff  ref_estimate  \\\n",
      "0           88         NaN         NaN       NaN           NaN   \n",
      "1          123    0.377778    0.236563    3279.0  19097.377778   \n",
      "2          123    0.000000    0.075671    1297.0  17140.000000   \n",
      "3          144    0.185484    0.062158    1146.0  21856.766129   \n",
      "4          152    0.054422    0.261911    5129.0  20648.741497   \n",
      "\n",
      "   ref_estimate_diff  \n",
      "0           0.000000  \n",
      "1        1957.377778  \n",
      "2           0.000000  \n",
      "3        2273.766129  \n",
      "4           0.000000  \n"
     ]
    },
    {
     "data": {
      "image/png": "[encoded data removed]",
      "text/plain": [
       "<matplotlib.figure.Figure at 0x7ff9ad901cc0>"
      ]
     },
     "metadata": {},
     "output_type": "display_data"
    }
   ],
   "source": [
    "py = pd.DataFrame.from_dict(py_results).rename(index=str,columns={\"count\": \"ref_count\"})\n",
    "cp = pd.DataFrame.from_dict(clipy_results).rename(index=str,columns={\"count\": \"cref_count\"})\n",
    "\n",
    "dy = pd.DataFrame.from_dict(doc_results).rename(index=str,columns={\"count\": \"doc_count\"})\n",
    "cdy = pd.DataFrame.from_dict(clidoc_results).rename(index=str,columns={\"count\": \"cdoc_count\"})\n",
    "\n",
    "bad_refs = py[(py['_id']<1800) | (py['_id']>2016)].ref_count.sum()\n",
    "bad_crefs = cp[(cp['_id']<1800) | (cp['_id']>2016)].cref_count.sum()\n",
    "\n",
    "other_crefs = cp[(cp['_id']<1990) & (cp['_id']>1800)].cref_count.sum()\n",
    "\n",
    "print(other_crefs)\n",
    "\n",
    "\n",
    "\n",
    "py = py.merge(dy).merge(cp).merge(cdy)\n",
    "\n",
    "py['ncref_count'] = py.apply(lambda x: x['ref_count'] - x['cref_count'],axis=1)\n",
    "py['ncdoc_count'] = py.apply(lambda x: x['doc_count'] - x['cdoc_count'],axis=1)\n",
    "\n",
    "\n",
    "\n",
    "    \n",
    "\n",
    "\n",
    "py = py[(py['ref_count']>10) & (py['_id']>1970)]\n",
    "\n",
    "\n",
    "width = 0.45\n",
    "\n",
    "py = py.sort_values(by='_id', ascending=1).reset_index(drop=True)\n",
    "\n",
    "def est_diff(x):\n",
    "    if x['ref_count'] < x['ref_estimate']:\n",
    "        return x['ref_estimate'] - x['ref_count']\n",
    "    else:\n",
    "        return 0\n",
    "\n",
    "py['doc_growth'] = py.doc_count.pct_change()\n",
    "py['ref_growth'] = py.ref_count.pct_change()\n",
    "py['ref_diff'] = py.ref_count.diff()\n",
    "py['ref_estimate'] = py.apply(lambda x: (x['ref_count']-x['ref_diff'])*(1+x['doc_growth']),axis=1)\n",
    "py['ref_estimate_diff'] = py.apply(lambda x: est_diff(x),axis=1)\n",
    "print(py.head())\n",
    "\n",
    "fig_size = [None,None]\n",
    "fig_size[0] = 12 #width\n",
    "fig_size[1] = 8 #height\n",
    "plt.rcParams[\"figure.figsize\"] = fig_size\n",
    "\n",
    "fig, ax = plt.subplots()\n",
    "\n",
    "p0 = ax.bar(py._id,py['cref_count'],color='#fbb4ae',width=width)\n",
    "p1 = ax.bar(py._id,py['ncref_count'],color='#fbb4ae',width=width,bottom=py['cref_count'],alpha=0.5)\n",
    "p2 = ax.bar(py._id+width,py['cdoc_count'],color='#b3cde3',width=width)\n",
    "p3 = ax.bar(py._id+width,py['ncdoc_count'],color='#b3cde3',width=width,bottom=py['cdoc_count'],alpha=0.5)\n",
    "\n",
    "p4 = ax.bar(2020,nopy_results+bad_refs,color='#fbb4ae',width=width,alpha=0.5)\n",
    "p4 = ax.bar(2020,clinopy_results+bad_crefs,color='#fbb4ae',width=width)\n",
    "\n",
    "# Draw the figure so we can change the x ticks\n",
    "fig.canvas.draw()\n",
    "labels = [item.get_text() for item in ax.get_xticklabels()]\n",
    "labels[-2] = 'Unknown Year'\n",
    "ax.set_xticklabels(labels)\n",
    "\n",
    "ax.legend((p0[0],p1[0],p2[0],p3[0]),('Climate References','All References','Climate Docs','All Docs'))\n",
    "plt.savefig('../plots/scopus_docs_refs_time.png',bbox_inches='tight')\n",
    "plt.show()"
   ]
  },
  {
   "cell_type": "code",
   "execution_count": null,
   "metadata": {
    "collapsed": true
   },
   "outputs": [],
   "source": []
  }
 ],
 "metadata": {
  "kernelspec": {
   "display_name": "Python 3",
   "language": "python",
   "name": "python3"
  },
  "language_info": {
   "codemirror_mode": {
    "name": "ipython",
    "version": 3
   },
   "file_extension": ".py",
   "mimetype": "text/x-python",
   "name": "python",
   "nbconvert_exporter": "python",
   "pygments_lexer": "ipython3",
   "version": "3.4.3"
  }
 },
 "nbformat": 4,
 "nbformat_minor": 2
}
