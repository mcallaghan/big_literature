{
 "cells": [
  {
   "cell_type": "code",
   "execution_count": null,
   "metadata": {
    "collapsed": true,
    "deletable": true,
    "editable": true
   },
   "outputs": [],
   "source": []
  },
  {
   "cell_type": "code",
   "execution_count": 1,
   "metadata": {
    "collapsed": false,
    "deletable": true,
    "editable": true
   },
   "outputs": [],
   "source": [
    "import os, sys, time, resource, re, gc, shutil\n",
    "from multiprocess import Pool\n",
    "from functools import partial\n",
    "from mongoengine import *\n",
    "from urllib.parse import urlparse, parse_qsl\n",
    "connect('mongoengine_documents')\n",
    "import matplotlib.pyplot as plt\n",
    "import numpy as np\n",
    "\n",
    "from mongo_classes import *"
   ]
  },
  {
   "cell_type": "code",
   "execution_count": 7,
   "metadata": {
    "collapsed": false,
    "deletable": true,
    "editable": true
   },
   "outputs": [
    {
     "name": "stdout",
     "output_type": "stream",
     "text": [
      "0\n"
     ]
    }
   ],
   "source": [
    "print(similarity.objects.count())\n"
   ]
  },
  {
   "cell_type": "code",
   "execution_count": 5,
   "metadata": {
    "collapsed": false,
    "deletable": true,
    "editable": true
   },
   "outputs": [],
   "source": [
    "total_refs = scopus_ref.objects\n",
    "#climate_refs = scopus_ref.objects.filter(text__icontains=\"climate change\")\n",
    "#climate_refs_n = climate_refs.count()"
   ]
  },
  {
   "cell_type": "code",
   "execution_count": 6,
   "metadata": {
    "collapsed": false,
    "deletable": true,
    "editable": true
   },
   "outputs": [
    {
     "name": "stdout",
     "output_type": "stream",
     "text": [
      "5450866\n"
     ]
    }
   ],
   "source": [
    "print(total_refs.count())"
   ]
  },
  {
   "cell_type": "code",
   "execution_count": 4,
   "metadata": {
    "collapsed": false,
    "deletable": true,
    "editable": true
   },
   "outputs": [
    {
     "name": "stdout",
     "output_type": "stream",
     "text": [
      "525732\n"
     ]
    }
   ],
   "source": [
    "print(climate_refs_n)"
   ]
  },
  {
   "cell_type": "code",
   "execution_count": 5,
   "metadata": {
    "collapsed": false,
    "deletable": true,
    "editable": true
   },
   "outputs": [
    {
     "name": "stdout",
     "output_type": "stream",
     "text": [
      "381396\n",
      "40806\n"
     ]
    }
   ],
   "source": [
    "sdocs = scopus_doc.objects\n",
    "print(sdocs.count())\n",
    "climate_sdocs = sdocs.filter(TI__icontains=\"climate change\").count()\n",
    "print(climate_sdocs)"
   ]
  },
  {
   "cell_type": "code",
   "execution_count": 38,
   "metadata": {
    "collapsed": false,
    "deletable": true,
    "editable": true
   },
   "outputs": [
    {
     "data": {
      "image/png": "[encoded data removed]",
      "text/plain": [
       "<matplotlib.figure.Figure at 0x7ff576b29c50>"
      ]
     },
     "metadata": {},
     "output_type": "display_data"
    }
   ],
   "source": [
    "fig_size = [None,None]\n",
    "fig_size[0] = 12\n",
    "fig_size[1] = 12\n",
    "plt.rcParams[\"figure.figsize\"] = fig_size\n",
    "\n",
    "ind = np.arange(2)\n",
    "ind2 = ind + width\n",
    "width = 0.45\n",
    "\n",
    "trefs = [sdocs.count(),total_refs.count()]\n",
    "crefs = [climate_sdocs,climate_refs_n]\n",
    "\n",
    "fig,ax = plt.subplots()\n",
    "\n",
    "p1 = ax.bar(ind,trefs,color='#fbb4ae',width=width)\n",
    "p2 = ax.bar(ind+width,crefs,color='#b3cde3',width=width)\n",
    "\n",
    "def autolabel(rects):\n",
    "    \"\"\"\n",
    "    Attach a text label above each bar displaying its height\n",
    "    \"\"\"\n",
    "    for rect in rects:\n",
    "        height = rect.get_height()\n",
    "        ax.text(rect.get_x() + rect.get_width()/2., height+10000,\n",
    "                '%s' % format(int(height),','),\n",
    "                ha='center', va='bottom')\n",
    "        \n",
    "autolabel(p1)\n",
    "autolabel(p2)\n",
    "\n",
    "plt.xticks(ind+width/2,('Scopus Query','Scopus References'))\n",
    "plt.legend((p1[0],p2[0]),('All','\"Climate Change\"\\n in title'))\n",
    "\n",
    "plt.savefig('../plots/scopus_docs_refs.png',bbox_inches='tight')\n",
    "plt.show()\n"
   ]
  },
  {
   "cell_type": "code",
   "execution_count": null,
   "metadata": {
    "collapsed": true,
    "deletable": true,
    "editable": true
   },
   "outputs": [],
   "source": []
  }
 ],
 "metadata": {
  "kernelspec": {
   "display_name": "Python 3",
   "language": "python",
   "name": "python3"
  },
  "language_info": {
   "codemirror_mode": {
    "name": "ipython",
    "version": 3
   },
   "file_extension": ".py",
   "mimetype": "text/x-python",
   "name": "python",
   "nbconvert_exporter": "python",
   "pygments_lexer": "ipython3",
   "version": "3.4.3"
  }
 },
 "nbformat": 4,
 "nbformat_minor": 2
}
