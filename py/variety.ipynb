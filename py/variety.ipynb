{
 "cells": [
  {
   "cell_type": "code",
   "execution_count": 40,
   "metadata": {
    "collapsed": true,
    "deletable": true,
    "editable": true
   },
   "outputs": [],
   "source": [
    "import os, sys, time, resource, re, gc, shutil\n",
    "from multiprocess import Pool\n",
    "from functools import partial\n",
    "from mongoengine import *\n",
    "from urllib.parse import urlparse, parse_qsl\n",
    "connect('mongoengine_documents')\n",
    "import matplotlib.pyplot as plt\n",
    "import numpy as np\n",
    "import pandas as pd\n",
    "from mongoengine.queryset.visitor import Q\n",
    "import django\n",
    "sys.path.append('/home/galm/software/tmv/BasicBrowser/')\n",
    "os.environ.setdefault(\"DJANGO_SETTINGS_MODULE\", \"BasicBrowser.settings\")\n",
    "django.setup()\n",
    "from monary import Monary\n",
    "mon = Monary()\n",
    "\n",
    "from scoping.models import *\n",
    "\n",
    "from mongo_classes import *\n",
    "\n",
    "from sklearn.feature_extraction.text import CountVectorizer, TfidfVectorizer\n",
    "from sklearn.preprocessing import normalize"
   ]
  },
  {
   "cell_type": "code",
   "execution_count": 17,
   "metadata": {
    "collapsed": false,
    "deletable": true,
    "editable": true
   },
   "outputs": [
    {
     "data": {
      "text/plain": [
       "1658"
      ]
     },
     "execution_count": 17,
     "metadata": {},
     "output_type": "execute_result"
    }
   ],
   "source": [
    "corpus_1990 = list(scopus_doc.objects.filter(PY=1990).values_list('TI'))\n",
    "len(corpus_1990)"
   ]
  },
  {
   "cell_type": "code",
   "execution_count": 11,
   "metadata": {
    "collapsed": false,
    "deletable": true,
    "editable": true
   },
   "outputs": [],
   "source": [
    "vectorizer = CountVectorizer(min_df=1)\n",
    "X = vectorizer.fit_transform(corpus_1990)"
   ]
  },
  {
   "cell_type": "code",
   "execution_count": 12,
   "metadata": {
    "collapsed": false,
    "deletable": true,
    "editable": true
   },
   "outputs": [
    {
     "ename": "AttributeError",
     "evalue": "get_feature_names not found",
     "output_type": "error",
     "traceback": [
      "\u001b[0;31m---------------------------------------------------------------------------\u001b[0m",
      "\u001b[0;31mAttributeError\u001b[0m                            Traceback (most recent call last)",
      "\u001b[0;32m<ipython-input-12-f01f1348953a>\u001b[0m in \u001b[0;36m<module>\u001b[0;34m()\u001b[0m\n\u001b[0;32m----> 1\u001b[0;31m \u001b[0mX\u001b[0m\u001b[0;34m.\u001b[0m\u001b[0mget_feature_names\u001b[0m\u001b[0;34m(\u001b[0m\u001b[0;34m)\u001b[0m\u001b[0;34m\u001b[0m\u001b[0m\n\u001b[0m",
      "\u001b[0;32m/usr/local/lib/python3.4/dist-packages/scipy/sparse/base.py\u001b[0m in \u001b[0;36m__getattr__\u001b[0;34m(self, attr)\u001b[0m\n\u001b[1;32m    557\u001b[0m             \u001b[0;32mreturn\u001b[0m \u001b[0mself\u001b[0m\u001b[0;34m.\u001b[0m\u001b[0mgetnnz\u001b[0m\u001b[0;34m(\u001b[0m\u001b[0;34m)\u001b[0m\u001b[0;34m\u001b[0m\u001b[0m\n\u001b[1;32m    558\u001b[0m         \u001b[0;32melse\u001b[0m\u001b[0;34m:\u001b[0m\u001b[0;34m\u001b[0m\u001b[0m\n\u001b[0;32m--> 559\u001b[0;31m             \u001b[0;32mraise\u001b[0m \u001b[0mAttributeError\u001b[0m\u001b[0;34m(\u001b[0m\u001b[0mattr\u001b[0m \u001b[0;34m+\u001b[0m \u001b[0;34m\" not found\"\u001b[0m\u001b[0;34m)\u001b[0m\u001b[0;34m\u001b[0m\u001b[0m\n\u001b[0m\u001b[1;32m    560\u001b[0m \u001b[0;34m\u001b[0m\u001b[0m\n\u001b[1;32m    561\u001b[0m     \u001b[0;32mdef\u001b[0m \u001b[0mtranspose\u001b[0m\u001b[0;34m(\u001b[0m\u001b[0mself\u001b[0m\u001b[0;34m,\u001b[0m \u001b[0maxes\u001b[0m\u001b[0;34m=\u001b[0m\u001b[0;32mNone\u001b[0m\u001b[0;34m,\u001b[0m \u001b[0mcopy\u001b[0m\u001b[0;34m=\u001b[0m\u001b[0;32mFalse\u001b[0m\u001b[0;34m)\u001b[0m\u001b[0;34m:\u001b[0m\u001b[0;34m\u001b[0m\u001b[0m\n",
      "\u001b[0;31mAttributeError\u001b[0m: get_feature_names not found"
     ]
    }
   ],
   "source": [
    "X.get_feature_names() "
   ]
  },
  {
   "cell_type": "code",
   "execution_count": 37,
   "metadata": {
    "collapsed": false,
    "deletable": true,
    "editable": true
   },
   "outputs": [],
   "source": [
    "corpus_1995 = list(scopus_doc.objects.filter(PY=1995).values_list('TI'))\n",
    "X_1995 = vectorizer.fit_transform(corpus_1995)\n",
    "\n",
    "X = []\n",
    "for y in [1990,1995,2000,2005,2010,2015]:\n",
    "    corpus = list(scopus_doc.objects.filter(PY=y,TI__exists=True).values_list('TI'))\n",
    "    X_y = vectorizer.fit_transform(corpus)\n",
    "    X.append(X_y)\n"
   ]
  },
  {
   "cell_type": "code",
   "execution_count": 77,
   "metadata": {
    "collapsed": false,
    "deletable": true,
    "editable": true
   },
   "outputs": [],
   "source": [
    "import nltk\n",
    "from nltk.stem import SnowballStemmer\n",
    "import string\n",
    "\n",
    "stoplist = set(nltk.corpus.stopwords.words(\"english\"))\n",
    "stoplist.add('elsevier')\n",
    "stoplist.add('rights')\n",
    "stoplist.add('reserved')\n",
    "stoplist.add('john')\n",
    "stoplist.add('wiley')\n",
    "stoplist.add('sons')\n",
    "stoplist.add('copyright')\n",
    "\n",
    "def tokenize(text):\n",
    "    tokens = nltk.word_tokenize(text)\n",
    "    tokens = [i for i in tokens if i not in string.punctuation]\n",
    "    return tokens\n",
    "\n",
    "class snowball_stemmer(object):\n",
    "    def __init__(self):\n",
    "        self.stemmer = SnowballStemmer(\"english\")\n",
    "    def __call__(self, doc):\n",
    "        return [self.stemmer.stem(t) for t in tokenize(doc)]\n",
    "\n",
    "tfidf_vectorizer = TfidfVectorizer(max_df=0.95, min_df=2,\n",
    "                                   tokenizer=snowball_stemmer(),\n",
    "                                   stop_words=stoplist)\n",
    "\n",
    "c_vectorizer = CountVectorizer(max_df=0.95, min_df=2,\n",
    "                                   tokenizer=snowball_stemmer(),\n",
    "                                   stop_words=stoplist)\n",
    "\n",
    "tfidf = tfidf_vectorizer.fit_transform(corpus_1995)"
   ]
  },
  {
   "cell_type": "code",
   "execution_count": 51,
   "metadata": {
    "collapsed": false,
    "deletable": true,
    "editable": true
   },
   "outputs": [
    {
     "name": "stdout",
     "output_type": "stream",
     "text": [
      "2877\n",
      "(2877, 1997)\n"
     ]
    }
   ],
   "source": [
    "dir(tfidf)\n",
    "tfidf.shape\n",
    "print(len(corpus_1995))\n",
    "print(tfidf.shape)"
   ]
  },
  {
   "cell_type": "code",
   "execution_count": 60,
   "metadata": {
    "collapsed": false,
    "deletable": true,
    "editable": true
   },
   "outputs": [
    {
     "name": "stdout",
     "output_type": "stream",
     "text": [
      "1990\n",
      "1995\n",
      "2000\n",
      "2005\n",
      "2010\n",
      "2015\n"
     ]
    }
   ],
   "source": [
    "X = []\n",
    "for y in [1990,1995,2000,2005,2010,2015]:\n",
    "    print(y)\n",
    "    corpus = list(scopus_doc.objects.filter(PY=y,AB__exists=True).values_list('AB'))\n",
    "    X_y = tfidf_vectorizer.fit_transform(corpus)\n",
    "    X.append(X_y)"
   ]
  },
  {
   "cell_type": "code",
   "execution_count": 78,
   "metadata": {
    "collapsed": false,
    "deletable": true,
    "editable": true
   },
   "outputs": [
    {
     "name": "stdout",
     "output_type": "stream",
     "text": [
      "1990\n",
      "1995\n",
      "2000\n",
      "2005\n",
      "2010\n",
      "2015\n"
     ]
    }
   ],
   "source": [
    "X_count = []\n",
    "for y in [1990,1995,2000,2005,2010,2015]:\n",
    "    print(y)\n",
    "    corpus = list(scopus_doc.objects.filter(PY=y,AB__exists=True).values_list('AB'))\n",
    "    X_y = c_vectorizer.fit_transform(corpus)\n",
    "    X_count.append(X_y)"
   ]
  },
  {
   "cell_type": "raw",
   "metadata": {
    "deletable": true,
    "editable": true
   },
   "source": [
    "dir(X_count[0])"
   ]
  },
  {
   "cell_type": "code",
   "execution_count": 82,
   "metadata": {
    "collapsed": false,
    "deletable": true,
    "editable": true
   },
   "outputs": [
    {
     "name": "stdout",
     "output_type": "stream",
     "text": [
      "133477\n",
      "1.28137708057e-07\n",
      "4.89973380726e-08\n",
      "1.47520445375e-08\n",
      "4.27161621914e-09\n",
      "1.30881214962e-09\n",
      "6.05723515418e-10\n"
     ]
    }
   ],
   "source": [
    "print(X_count[0].sum())\n",
    "for x in X_count:\n",
    "    print(x.mean()/x.sum())"
   ]
  },
  {
   "cell_type": "code",
   "execution_count": 178,
   "metadata": {
    "collapsed": false,
    "deletable": true,
    "editable": true
   },
   "outputs": [
    {
     "name": "stdout",
     "output_type": "stream",
     "text": [
      "#D53E4F\n",
      "0.0948979026053\n",
      "#FC8D59\n",
      "0.0995278832749\n",
      "#FEE08B\n",
      "0.119038546515\n",
      "#E6F598\n",
      "0.188054283882\n",
      "#99D594\n",
      "0.413566458852\n",
      "#3288BD\n",
      "0.93472178038\n"
     ]
    },
    {
     "data": {
      "image/png": "[encoded data removed]",
      "text/plain": [
       "<matplotlib.figure.Figure at 0x7fd858855518>"
      ]
     },
     "metadata": {},
     "output_type": "display_data"
    }
   ],
   "source": [
    "ind = np.arange(1)\n",
    "\n",
    "fig_size = [None,None]\n",
    "fig_size[0] = 12\n",
    "fig_size[1] = 12\n",
    "plt.rcParams[\"figure.figsize\"] = fig_size\n",
    "\n",
    "def vvrect(X,col_x,m):\n",
    "    return plt.bar(ind+X.shape[1]/2,X.shape[0],width=X.shape[1],facecolor=col_x,edgecolor='black',alpha=m)\n",
    "\n",
    "nmeans = normalize([[x.mean()/x.sum() for x in X_count]])[0]\n",
    "\n",
    "crange = ['#fbb4ae','#b3cde3','#ccebc5','#decbe4','#fed9a6','#ffffcc']\n",
    "\n",
    "crange = [\"#D53E4F\", \"#FC8D59\", \"#FEE08B\", \"#E6F598\", \"#99D594\", \"#3288BD\"]\n",
    "years = [1990,1995,2000,2005,2010,2015]\n",
    "\n",
    "\n",
    "\n",
    "plots = []\n",
    "lvalues = []\n",
    "for x in [5,4,3,2,1,0]:\n",
    "    a = (nmeans[x]+0.1)/1.1\n",
    "    #a = nmeans[x]\n",
    "    vvrect(X_count[x], \"None\",1)\n",
    "    vvrect(X_count[x], \"white\",1)\n",
    "    p = vvrect(X_count[x], crange[x] ,a)\n",
    "    plots.append(p[0])\n",
    "    lvalues.append(str(years[x]) + \": \" + str(X_count[x].mean()/X_count[x].sum()))\n",
    "    print(crange[5-x])\n",
    "    print(a)\n",
    "    \n",
    "plt.legend(plots,lvalues,title='Mean term frequency / sum term frequency')\n",
    "    \n",
    "plt.axis('equal')\n",
    "plt.ylabel('Documents')\n",
    "plt.xlabel('Words')\n",
    "plt.savefig('../plots/volume_variety.png',bbox_inches='tight')\n",
    "\n",
    "plt.show()"
   ]
  },
  {
   "cell_type": "code",
   "execution_count": 108,
   "metadata": {
    "collapsed": false,
    "deletable": true,
    "editable": true
   },
   "outputs": [
    {
     "data": {
      "image/png": "[encoded data removed]",
      "text/plain": [
       "<matplotlib.figure.Figure at 0x7fd8581d0da0>"
      ]
     },
     "metadata": {},
     "output_type": "display_data"
    }
   ],
   "source": [
    "ind = np.arange(1)\n",
    "\n",
    "fig_size = [None,None]\n",
    "fig_size[0] = 12\n",
    "fig_size[1] = 12\n",
    "plt.rcParams[\"figure.figsize\"] = fig_size\n",
    "\n",
    "def vvrect(X,colour,m):\n",
    "    plt.bar(ind+X.shape[1]/2,X.shape[0],width=X.shape[1],fill=colour,edgecolor='black',alpha=m)\n",
    "    \n",
    "nmeans = normalize([[x.mean() for x in X]])[0]\n",
    "\n",
    "\n",
    "\n",
    "   \n",
    "\n",
    "vvrect(X[5], '#fbb4ae',nmeans[5])\n",
    "vvrect(X[4], '#b3cde3',nmeans[4])\n",
    "vvrect(X[3], '#ccebc5',nmeans[3])\n",
    "vvrect(X[2], '#decbe4',nmeans[2])\n",
    "vvrect(X[1], '#fed9a6',nmeans[1])\n",
    "vvrect(X[0], '#ffffcc',nmeans[0])\n",
    "\n",
    "plt.axis('equal')\n",
    "plt.ylabel('Documents')\n",
    "plt.xlabel('Words')\n",
    "plt.savefig('../plots/volume_variety.png',bbox_inches='tight')\n",
    "\n",
    "plt.show()"
   ]
  },
  {
   "cell_type": "code",
   "execution_count": 56,
   "metadata": {
    "collapsed": false,
    "deletable": true,
    "editable": true
   },
   "outputs": [
    {
     "name": "stdout",
     "output_type": "stream",
     "text": [
      "(2877, 1997)\n"
     ]
    }
   ],
   "source": [
    "print(X[1].shape)"
   ]
  },
  {
   "cell_type": "code",
   "execution_count": 66,
   "metadata": {
    "collapsed": true,
    "deletable": true,
    "editable": true
   },
   "outputs": [],
   "source": [
    "x = X[1]"
   ]
  },
  {
   "cell_type": "code",
   "execution_count": 67,
   "metadata": {
    "collapsed": false,
    "deletable": true,
    "editable": true
   },
   "outputs": [
    {
     "data": {
      "text/plain": [
       "['__abs__',\n",
       " '__add__',\n",
       " '__array_priority__',\n",
       " '__bool__',\n",
       " '__class__',\n",
       " '__delattr__',\n",
       " '__dict__',\n",
       " '__dir__',\n",
       " '__div__',\n",
       " '__doc__',\n",
       " '__eq__',\n",
       " '__format__',\n",
       " '__ge__',\n",
       " '__getattr__',\n",
       " '__getattribute__',\n",
       " '__getitem__',\n",
       " '__gt__',\n",
       " '__hash__',\n",
       " '__iadd__',\n",
       " '__idiv__',\n",
       " '__imul__',\n",
       " '__init__',\n",
       " '__isub__',\n",
       " '__iter__',\n",
       " '__itruediv__',\n",
       " '__le__',\n",
       " '__len__',\n",
       " '__lt__',\n",
       " '__matmul__',\n",
       " '__module__',\n",
       " '__mul__',\n",
       " '__ne__',\n",
       " '__neg__',\n",
       " '__new__',\n",
       " '__nonzero__',\n",
       " '__numpy_ufunc__',\n",
       " '__pow__',\n",
       " '__radd__',\n",
       " '__rdiv__',\n",
       " '__reduce__',\n",
       " '__reduce_ex__',\n",
       " '__repr__',\n",
       " '__rmatmul__',\n",
       " '__rmul__',\n",
       " '__rsub__',\n",
       " '__rtruediv__',\n",
       " '__setattr__',\n",
       " '__setitem__',\n",
       " '__sizeof__',\n",
       " '__str__',\n",
       " '__sub__',\n",
       " '__subclasshook__',\n",
       " '__truediv__',\n",
       " '__weakref__',\n",
       " '_binopt',\n",
       " '_boolean_index_to_array',\n",
       " '_check_boolean',\n",
       " '_check_ellipsis',\n",
       " '_cs_matrix__get_has_canonical_format',\n",
       " '_cs_matrix__get_sorted',\n",
       " '_cs_matrix__set_has_canonical_format',\n",
       " '_cs_matrix__set_sorted',\n",
       " '_deduped_data',\n",
       " '_divide',\n",
       " '_divide_sparse',\n",
       " '_get_dtype',\n",
       " '_get_row_slice',\n",
       " '_get_single_element',\n",
       " '_get_submatrix',\n",
       " '_imag',\n",
       " '_index_to_arrays',\n",
       " '_inequality',\n",
       " '_insert_many',\n",
       " '_maximum_minimum',\n",
       " '_min_or_max',\n",
       " '_min_or_max_axis',\n",
       " '_minor_reduce',\n",
       " '_mul_multivector',\n",
       " '_mul_scalar',\n",
       " '_mul_sparse_matrix',\n",
       " '_mul_vector',\n",
       " '_prepare_indices',\n",
       " '_process_toarray_args',\n",
       " '_real',\n",
       " '_scalar_binopt',\n",
       " '_set_dtype',\n",
       " '_set_many',\n",
       " '_set_self',\n",
       " '_setdiag',\n",
       " '_shape',\n",
       " '_slicetoarange',\n",
       " '_swap',\n",
       " '_unpack_index',\n",
       " '_with_data',\n",
       " '_zero_many',\n",
       " 'arcsin',\n",
       " 'arcsinh',\n",
       " 'arctan',\n",
       " 'arctanh',\n",
       " 'asformat',\n",
       " 'asfptype',\n",
       " 'astype',\n",
       " 'ceil',\n",
       " 'check_format',\n",
       " 'conj',\n",
       " 'conjugate',\n",
       " 'copy',\n",
       " 'count_nonzero',\n",
       " 'data',\n",
       " 'deg2rad',\n",
       " 'diagonal',\n",
       " 'dot',\n",
       " 'dtype',\n",
       " 'eliminate_zeros',\n",
       " 'expm1',\n",
       " 'floor',\n",
       " 'format',\n",
       " 'getH',\n",
       " 'get_shape',\n",
       " 'getcol',\n",
       " 'getformat',\n",
       " 'getmaxprint',\n",
       " 'getnnz',\n",
       " 'getrow',\n",
       " 'has_canonical_format',\n",
       " 'has_sorted_indices',\n",
       " 'indices',\n",
       " 'indptr',\n",
       " 'log1p',\n",
       " 'max',\n",
       " 'maximum',\n",
       " 'maxprint',\n",
       " 'mean',\n",
       " 'min',\n",
       " 'minimum',\n",
       " 'multiply',\n",
       " 'ndim',\n",
       " 'nnz',\n",
       " 'nonzero',\n",
       " 'power',\n",
       " 'prune',\n",
       " 'rad2deg',\n",
       " 'reshape',\n",
       " 'rint',\n",
       " 'set_shape',\n",
       " 'setdiag',\n",
       " 'shape',\n",
       " 'sign',\n",
       " 'sin',\n",
       " 'sinh',\n",
       " 'sort_indices',\n",
       " 'sorted_indices',\n",
       " 'sqrt',\n",
       " 'sum',\n",
       " 'sum_duplicates',\n",
       " 'tan',\n",
       " 'tanh',\n",
       " 'toarray',\n",
       " 'tobsr',\n",
       " 'tocoo',\n",
       " 'tocsc',\n",
       " 'tocsr',\n",
       " 'todense',\n",
       " 'todia',\n",
       " 'todok',\n",
       " 'tolil',\n",
       " 'transpose',\n",
       " 'trunc']"
      ]
     },
     "execution_count": 67,
     "metadata": {},
     "output_type": "execute_result"
    }
   ],
   "source": [
    "dir(x)"
   ]
  },
  {
   "cell_type": "code",
   "execution_count": 68,
   "metadata": {
    "collapsed": false,
    "deletable": true,
    "editable": true
   },
   "outputs": [
    {
     "name": "stdout",
     "output_type": "stream",
     "text": [
      "0.00125491114092\n",
      "0.000879825371994\n",
      "0.000547628018673\n",
      "0.00033694434578\n",
      "0.000219688444785\n",
      "0.00015556117685\n"
     ]
    }
   ],
   "source": [
    "for x in X:\n",
    "    print(x.mean())"
   ]
  },
  {
   "cell_type": "code",
   "execution_count": 69,
   "metadata": {
    "collapsed": true,
    "deletable": true,
    "editable": true
   },
   "outputs": [],
   "source": [
    "means = [x.mean() for x in X]"
   ]
  },
  {
   "cell_type": "code",
   "execution_count": 72,
   "metadata": {
    "collapsed": false,
    "deletable": true,
    "editable": true
   },
   "outputs": [
    {
     "data": {
      "text/plain": [
       "array([[ 0.74533741,  0.52256032,  0.32525622,  0.20012351,  0.13048096,\n",
       "         0.09239345]])"
      ]
     },
     "execution_count": 72,
     "metadata": {},
     "output_type": "execute_result"
    }
   ],
   "source": [
    "from sklearn.preprocessing import normalize\n",
    "\n",
    "normalize([means])"
   ]
  },
  {
   "cell_type": "code",
   "execution_count": 175,
   "metadata": {
    "collapsed": false,
    "deletable": true,
    "editable": true
   },
   "outputs": [],
   "source": [
    "import codecs\n",
    "import re\n",
    "bible = []\n",
    "i=0\n",
    "clines=\"\"\n",
    "corpus = []\n",
    "lchapter=\"none\"\n",
    "with codecs.open('Martin_Luther_Uebersetzung_1912.txt',encoding = \"ISO-8859-1\") as ml:\n",
    "    for line in ml:\n",
    "        chapter = line.split(':')[0]\n",
    "        try:\n",
    "            verse = re.search(\".*([0-9]+\\:[0-9]*)(.*)\",line).group(2).strip()\n",
    "        except:\n",
    "            corpus.append(str(clines))\n",
    "            break\n",
    "        if lchapter!=chapter and i > 0:\n",
    "            corpus.append(str(clines))\n",
    "            clines=verse            \n",
    "        else:\n",
    "            clines+=\" \"+verse\n",
    "            #print('\\n')\n",
    "        lchapter = chapter\n",
    "        i+=1\n",
    "\n"
   ]
  },
  {
   "cell_type": "code",
   "execution_count": 176,
   "metadata": {
    "collapsed": false,
    "deletable": true,
    "editable": true
   },
   "outputs": [
    {
     "data": {
      "text/plain": [
       "1189"
      ]
     },
     "execution_count": 176,
     "metadata": {},
     "output_type": "execute_result"
    }
   ],
   "source": [
    "len(corpus)"
   ]
  },
  {
   "cell_type": "code",
   "execution_count": 179,
   "metadata": {
    "collapsed": false,
    "deletable": true,
    "editable": true
   },
   "outputs": [],
   "source": [
    "X_y = c_vectorizer.fit_transform(corpus)"
   ]
  },
  {
   "cell_type": "code",
   "execution_count": 181,
   "metadata": {
    "collapsed": false,
    "deletable": true,
    "editable": true
   },
   "outputs": [
    {
     "data": {
      "image/png": "[encoded data removed]",
      "text/plain": [
       "<matplotlib.figure.Figure at 0x7fd858f19198>"
      ]
     },
     "metadata": {},
     "output_type": "display_data"
    }
   ],
   "source": [
    "vvrect(X_y, '#ffffcc',1)\n",
    "plt.show()"
   ]
  },
  {
   "cell_type": "code",
   "execution_count": 187,
   "metadata": {
    "collapsed": false,
    "deletable": true,
    "editable": true
   },
   "outputs": [
    {
     "name": "stdout",
     "output_type": "stream",
     "text": [
      "#D53E4F\n",
      "0.0940115584193\n",
      "#FC8D59\n",
      "0.0976127222983\n",
      "#FEE08B\n",
      "0.112787968315\n",
      "#E6F598\n",
      "0.16646788584\n",
      "#99D594\n",
      "0.341869546607\n",
      "#3288BD\n",
      "0.747220206393\n",
      "grey\n",
      "0.494937845835\n"
     ]
    },
    {
     "data": {
      "image/png": "[encoded data removed]",
      "text/plain": [
       "<matplotlib.figure.Figure at 0x7fd85882b630>"
      ]
     },
     "metadata": {},
     "output_type": "display_data"
    }
   ],
   "source": [
    "ind = np.arange(1)\n",
    "\n",
    "fig_size = [None,None]\n",
    "fig_size[0] = 12\n",
    "fig_size[1] = 12\n",
    "plt.rcParams[\"figure.figsize\"] = fig_size\n",
    "\n",
    "def vvrect(X,col_x,m):\n",
    "    return plt.bar(ind+X.shape[1]/2,X.shape[0],width=X.shape[1],facecolor=col_x,edgecolor='black',alpha=m)\n",
    "\n",
    "#X_count.append(X_y)\n",
    "\n",
    "nmeans = normalize([[x.mean()/x.sum() for x in X_count]])[0]\n",
    "\n",
    "crange = ['#fbb4ae','#b3cde3','#ccebc5','#decbe4','#fed9a6','#ffffcc']\n",
    "\n",
    "crange = [\"#D53E4F\", \"#FC8D59\", \"#FEE08B\", \"#E6F598\", \"#99D594\", \"#3288BD\",\"grey\"]\n",
    "years = [1990,1995,2000,2005,2010,2015,'Bible']\n",
    "\n",
    "\n",
    "\n",
    "plots = []\n",
    "lvalues = []\n",
    "for x in [5,4,3,2,1,0,6]:\n",
    "    a = (nmeans[x]+0.1)/1.1\n",
    "    #a = nmeans[x]\n",
    "    vvrect(X_count[x], \"None\",1)\n",
    "    vvrect(X_count[x], \"white\",1)\n",
    "    p = vvrect(X_count[x], crange[x] ,a)\n",
    "    plots.append(p[0])\n",
    "    lvalues.append(str(years[x]) + \": \" + str(X_count[x].mean()/X_count[x].sum()))\n",
    "    print(crange[5-x])\n",
    "    print(a)\n",
    "    \n",
    "plt.legend(plots,lvalues,title='Mean term frequency / sum term frequency')\n",
    "    \n",
    "plt.axis('equal')\n",
    "plt.ylabel('Documents')\n",
    "plt.xlabel('Words')\n",
    "plt.savefig('../plots/volume_variety_bible.png',bbox_inches='tight')\n",
    "\n",
    "plt.show()"
   ]
  },
  {
   "cell_type": "code",
   "execution_count": null,
   "metadata": {
    "collapsed": true,
    "deletable": true,
    "editable": true
   },
   "outputs": [],
   "source": []
  }
 ],
 "metadata": {
  "kernelspec": {
   "display_name": "Python 3",
   "language": "python",
   "name": "python3"
  },
  "language_info": {
   "codemirror_mode": {
    "name": "ipython",
    "version": 3
   },
   "file_extension": ".py",
   "mimetype": "text/x-python",
   "name": "python",
   "nbconvert_exporter": "python",
   "pygments_lexer": "ipython3",
   "version": "3.4.3"
  }
 },
 "nbformat": 4,
 "nbformat_minor": 2
}
