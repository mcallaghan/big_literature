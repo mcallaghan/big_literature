{
 "cells": [
  {
   "cell_type": "code",
   "execution_count": 1,
   "metadata": {
    "collapsed": false
   },
   "outputs": [],
   "source": [
    "import os, sys, time, resource, re, gc, shutil\n",
    "from django.db.models import Count\n",
    "import matplotlib\n",
    "import matplotlib.pyplot as plt\n",
    "import numpy as np\n",
    "import pandas as pd\n",
    "import django\n",
    "\n",
    "\n",
    "\n",
    "from scipy.spatial import ConvexHull\n",
    "\n",
    "sys.path.append('/home/galm/software/django/tmv/BasicBrowser/')\n",
    "os.environ.setdefault(\"DJANGO_SETTINGS_MODULE\", \"BasicBrowser.settings\")\n",
    "django.setup()\n",
    "from django.db.models import Q, F, Sum, Count, FloatField, Case, When, Value, Max\n",
    "from utils.text import *\n",
    "from tmv_app.tasks import *\n",
    "from scoping.models import *\n",
    "from tmv_app.models import *\n",
    "matplotlib.rcParams[\"figure.figsize\"] = [7.2,4.5]\n",
    "matplotlib.rcParams['axes.labelsize'] = 7 \n",
    "matplotlib.rcParams['xtick.labelsize'] = 5\n",
    "matplotlib.rcParams['ytick.labelsize'] = 5 \n",
    "\n",
    "\n",
    "q = Query.objects.get(pk=2355)\n",
    "\n",
    "docs = Doc.objects.filter(query=q,PY__lt=2018,PY__gt=1980)"
   ]
  },
  {
   "cell_type": "code",
   "execution_count": 2,
   "metadata": {
    "collapsed": false
   },
   "outputs": [
    {
     "data": {
      "text/html": [
       "<div>\n",
       "<style scoped>\n",
       "    .dataframe tbody tr th:only-of-type {\n",
       "        vertical-align: middle;\n",
       "    }\n",
       "\n",
       "    .dataframe tbody tr th {\n",
       "        vertical-align: top;\n",
       "    }\n",
       "\n",
       "    .dataframe thead th {\n",
       "        text-align: right;\n",
       "    }\n",
       "</style>\n",
       "<table border=\"1\" class=\"dataframe\">\n",
       "  <thead>\n",
       "    <tr style=\"text-align: right;\">\n",
       "      <th></th>\n",
       "      <th>PY</th>\n",
       "      <th>n_authors</th>\n",
       "      <th>n_docs</th>\n",
       "      <th>n_journals</th>\n",
       "      <th>n_keywords</th>\n",
       "    </tr>\n",
       "  </thead>\n",
       "  <tbody>\n",
       "    <tr>\n",
       "      <th>32</th>\n",
       "      <td>2013</td>\n",
       "      <td>72660</td>\n",
       "      <td>25991</td>\n",
       "      <td>2982</td>\n",
       "      <td>19127</td>\n",
       "    </tr>\n",
       "    <tr>\n",
       "      <th>33</th>\n",
       "      <td>2014</td>\n",
       "      <td>79613</td>\n",
       "      <td>28071</td>\n",
       "      <td>3151</td>\n",
       "      <td>21032</td>\n",
       "    </tr>\n",
       "    <tr>\n",
       "      <th>34</th>\n",
       "      <td>2015</td>\n",
       "      <td>87932</td>\n",
       "      <td>30517</td>\n",
       "      <td>3291</td>\n",
       "      <td>23289</td>\n",
       "    </tr>\n",
       "    <tr>\n",
       "      <th>35</th>\n",
       "      <td>2016</td>\n",
       "      <td>97497</td>\n",
       "      <td>33699</td>\n",
       "      <td>3403</td>\n",
       "      <td>26194</td>\n",
       "    </tr>\n",
       "    <tr>\n",
       "      <th>36</th>\n",
       "      <td>2017</td>\n",
       "      <td>104985</td>\n",
       "      <td>36069</td>\n",
       "      <td>3396</td>\n",
       "      <td>28293</td>\n",
       "    </tr>\n",
       "  </tbody>\n",
       "</table>\n",
       "</div>"
      ],
      "text/plain": [
       "      PY  n_authors  n_docs  n_journals  n_keywords\n",
       "32  2013      72660   25991        2982       19127\n",
       "33  2014      79613   28071        3151       21032\n",
       "34  2015      87932   30517        3291       23289\n",
       "35  2016      97497   33699        3403       26194\n",
       "36  2017     104985   36069        3396       28293"
      ]
     },
     "execution_count": 2,
     "metadata": {},
     "output_type": "execute_result"
    }
   ],
   "source": [
    "docs_an = docs.values('PY').annotate(\n",
    "    n_docs = Count('id', distinct=True),\n",
    "    n_journals = Count('wosarticle__so', distinct=True),\n",
    "    n_authors = Count('docauthinst__AU', distinct=True),\n",
    "    n_keywords = Count('wosarticle__de', distinct=True)\n",
    ")\n",
    "\n",
    "df = pd.DataFrame.from_dict(list(docs_an))\n",
    "\n",
    "df.tail()"
   ]
  },
  {
   "cell_type": "code",
   "execution_count": 3,
   "metadata": {
    "collapsed": false
   },
   "outputs": [
    {
     "data": {
      "image/png": "[encoded data removed]",
      "text/plain": [
       "<matplotlib.figure.Figure at 0x7f8256175da0>"
      ]
     },
     "metadata": {},
     "output_type": "display_data"
    }
   ],
   "source": [
    "plt.close()\n",
    "pdf = df.set_index('PY')\n",
    "pdf.plot()\n",
    "\n",
    "plt.show()"
   ]
  },
  {
   "cell_type": "code",
   "execution_count": 4,
   "metadata": {
    "collapsed": false
   },
   "outputs": [
    {
     "data": {
      "text/html": [
       "<div>\n",
       "<style scoped>\n",
       "    .dataframe tbody tr th:only-of-type {\n",
       "        vertical-align: middle;\n",
       "    }\n",
       "\n",
       "    .dataframe tbody tr th {\n",
       "        vertical-align: top;\n",
       "    }\n",
       "\n",
       "    .dataframe thead th {\n",
       "        text-align: right;\n",
       "    }\n",
       "</style>\n",
       "<table border=\"1\" class=\"dataframe\">\n",
       "  <thead>\n",
       "    <tr style=\"text-align: right;\">\n",
       "      <th></th>\n",
       "      <th>PY</th>\n",
       "      <th>n_authors</th>\n",
       "      <th>n_docs</th>\n",
       "      <th>n_journals</th>\n",
       "      <th>n_keywords</th>\n",
       "      <th>n_words</th>\n",
       "    </tr>\n",
       "  </thead>\n",
       "  <tbody>\n",
       "    <tr>\n",
       "      <th>32</th>\n",
       "      <td>2013</td>\n",
       "      <td>72660</td>\n",
       "      <td>25991</td>\n",
       "      <td>2982</td>\n",
       "      <td>19127</td>\n",
       "      <td>20580</td>\n",
       "    </tr>\n",
       "    <tr>\n",
       "      <th>33</th>\n",
       "      <td>2014</td>\n",
       "      <td>79613</td>\n",
       "      <td>28071</td>\n",
       "      <td>3151</td>\n",
       "      <td>21032</td>\n",
       "      <td>21674</td>\n",
       "    </tr>\n",
       "    <tr>\n",
       "      <th>34</th>\n",
       "      <td>2015</td>\n",
       "      <td>87932</td>\n",
       "      <td>30517</td>\n",
       "      <td>3291</td>\n",
       "      <td>23289</td>\n",
       "      <td>22710</td>\n",
       "    </tr>\n",
       "    <tr>\n",
       "      <th>35</th>\n",
       "      <td>2016</td>\n",
       "      <td>97497</td>\n",
       "      <td>33699</td>\n",
       "      <td>3403</td>\n",
       "      <td>26194</td>\n",
       "      <td>23836</td>\n",
       "    </tr>\n",
       "    <tr>\n",
       "      <th>36</th>\n",
       "      <td>2017</td>\n",
       "      <td>104985</td>\n",
       "      <td>36069</td>\n",
       "      <td>3396</td>\n",
       "      <td>28293</td>\n",
       "      <td>24790</td>\n",
       "    </tr>\n",
       "  </tbody>\n",
       "</table>\n",
       "</div>"
      ],
      "text/plain": [
       "      PY  n_authors  n_docs  n_journals  n_keywords  n_words\n",
       "32  2013      72660   25991        2982       19127    20580\n",
       "33  2014      79613   28071        3151       21032    21674\n",
       "34  2015      87932   30517        3291       23289    22710\n",
       "35  2016      97497   33699        3403       26194    23836\n",
       "36  2017     104985   36069        3396       28293    24790"
      ]
     },
     "execution_count": 4,
     "metadata": {},
     "output_type": "execute_result"
    }
   ],
   "source": [
    "def get_year_words(row,docs):\n",
    "    py = row['PY']\n",
    "    docs = docs.filter(PY=py)\n",
    "    abstracts, docsizes, ids, citations = proc_docs(docs, stoplist, False, False)\n",
    "    try:\n",
    "        count_vectorizer = CountVectorizer(\n",
    "            min_df=5,\n",
    "            max_features=100000,\n",
    "            ngram_range=(1,1),\n",
    "            stop_words=stoplist\n",
    "        )\n",
    "        tfidf = count_vectorizer.fit_transform(abstracts).shape[1]\n",
    "    except:\n",
    "        tfidf = 0\n",
    "    return tfidf\n",
    "    \n",
    "abstracts = get_year_words({'PY':1990},docs)\n",
    "df['n_words'] = df.apply(lambda x: get_year_words(x,docs),axis=1)\n",
    "\n",
    "df.tail()"
   ]
  },
  {
   "cell_type": "code",
   "execution_count": 5,
   "metadata": {
    "collapsed": false
   },
   "outputs": [
    {
     "data": {
      "image/png": "[encoded data removed]",
      "text/plain": [
       "<matplotlib.figure.Figure at 0x7f82560a1ba8>"
      ]
     },
     "metadata": {},
     "output_type": "display_data"
    }
   ],
   "source": [
    "plt.close()\n",
    "pdf = df.set_index('PY')\n",
    "pdf.plot()\n",
    "plt.savefig('../plots/vs.png')\n",
    "plt.show()"
   ]
  },
  {
   "cell_type": "code",
   "execution_count": 6,
   "metadata": {
    "collapsed": true
   },
   "outputs": [],
   "source": [
    "\n",
    "df.to_csv('../data/vs.csv',index=False)"
   ]
  }
 ],
 "metadata": {
  "kernelspec": {
   "display_name": "tmvenv",
   "language": "python",
   "name": "tmvenv"
  },
  "language_info": {
   "codemirror_mode": {
    "name": "ipython",
    "version": 3
   },
   "file_extension": ".py",
   "mimetype": "text/x-python",
   "name": "python",
   "nbconvert_exporter": "python",
   "pygments_lexer": "ipython3",
   "version": "3.4.3"
  }
 },
 "nbformat": 4,
 "nbformat_minor": 2
}
