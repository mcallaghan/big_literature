{
 "cells": [
  {
   "cell_type": "code",
   "execution_count": 16,
   "metadata": {
    "collapsed": false,
    "deletable": true,
    "editable": true
   },
   "outputs": [],
   "source": [
    "import os, sys, time, resource, re, gc, shutil\n",
    "from django.db.models import Count\n",
    "import matplotlib\n",
    "import matplotlib.pyplot as plt\n",
    "import numpy as np\n",
    "import pandas as pd\n",
    "import django\n",
    "\n",
    "\n",
    "\n",
    "from scipy.spatial import ConvexHull\n",
    "\n",
    "sys.path.append('/home/galm/software/django/tmv/BasicBrowser/')\n",
    "os.environ.setdefault(\"DJANGO_SETTINGS_MODULE\", \"BasicBrowser.settings\")\n",
    "django.setup()\n",
    "from django.db.models import Q, F, Sum, Count, FloatField, Case, When, Value, Max\n",
    "from utils.text import *\n",
    "from tmv_app.tasks import *\n",
    "from scoping.models import *\n",
    "from tmv_app.models import *\n",
    "matplotlib.rcParams[\"figure.figsize\"] = [7.2,4.5]\n",
    "matplotlib.rcParams['axes.labelsize'] = 7 \n",
    "matplotlib.rcParams['xtick.labelsize'] = 5\n",
    "matplotlib.rcParams['ytick.labelsize'] = 5 \n",
    "\n",
    "\n",
    "q = Query.objects.get(pk=2880)\n",
    "\n",
    "docs = Doc.objects.filter(query=q,PY__lt=2018,PY__gt=1980)"
   ]
  },
  {
   "cell_type": "code",
   "execution_count": 2,
   "metadata": {
    "collapsed": false,
    "deletable": true,
    "editable": true
   },
   "outputs": [
    {
     "data": {
      "text/html": [
       "<div>\n",
       "<style scoped>\n",
       "    .dataframe tbody tr th:only-of-type {\n",
       "        vertical-align: middle;\n",
       "    }\n",
       "\n",
       "    .dataframe tbody tr th {\n",
       "        vertical-align: top;\n",
       "    }\n",
       "\n",
       "    .dataframe thead th {\n",
       "        text-align: right;\n",
       "    }\n",
       "</style>\n",
       "<table border=\"1\" class=\"dataframe\">\n",
       "  <thead>\n",
       "    <tr style=\"text-align: right;\">\n",
       "      <th></th>\n",
       "      <th>PY</th>\n",
       "      <th>n_authors</th>\n",
       "      <th>n_docs</th>\n",
       "      <th>n_journals</th>\n",
       "      <th>n_keywords</th>\n",
       "    </tr>\n",
       "  </thead>\n",
       "  <tbody>\n",
       "    <tr>\n",
       "      <th>32</th>\n",
       "      <td>2013</td>\n",
       "      <td>107370</td>\n",
       "      <td>39823</td>\n",
       "      <td>6800</td>\n",
       "      <td>19130</td>\n",
       "    </tr>\n",
       "    <tr>\n",
       "      <th>33</th>\n",
       "      <td>2014</td>\n",
       "      <td>117994</td>\n",
       "      <td>42850</td>\n",
       "      <td>7018</td>\n",
       "      <td>21037</td>\n",
       "    </tr>\n",
       "    <tr>\n",
       "      <th>34</th>\n",
       "      <td>2015</td>\n",
       "      <td>123812</td>\n",
       "      <td>43712</td>\n",
       "      <td>7125</td>\n",
       "      <td>23294</td>\n",
       "    </tr>\n",
       "    <tr>\n",
       "      <th>35</th>\n",
       "      <td>2016</td>\n",
       "      <td>128430</td>\n",
       "      <td>44394</td>\n",
       "      <td>6582</td>\n",
       "      <td>26196</td>\n",
       "    </tr>\n",
       "    <tr>\n",
       "      <th>36</th>\n",
       "      <td>2017</td>\n",
       "      <td>147563</td>\n",
       "      <td>51153</td>\n",
       "      <td>7481</td>\n",
       "      <td>28423</td>\n",
       "    </tr>\n",
       "  </tbody>\n",
       "</table>\n",
       "</div>"
      ],
      "text/plain": [
       "      PY  n_authors  n_docs  n_journals  n_keywords\n",
       "32  2013     107370   39823        6800       19130\n",
       "33  2014     117994   42850        7018       21037\n",
       "34  2015     123812   43712        7125       23294\n",
       "35  2016     128430   44394        6582       26196\n",
       "36  2017     147563   51153        7481       28423"
      ]
     },
     "execution_count": 2,
     "metadata": {},
     "output_type": "execute_result"
    }
   ],
   "source": [
    "docs_an = docs.values('PY').annotate(\n",
    "    n_docs = Count('id', distinct=True),\n",
    "    n_journals = Count('wosarticle__so', distinct=True),\n",
    "    n_authors = Count('docauthinst__AU', distinct=True),\n",
    "    n_keywords = Count('wosarticle__de', distinct=True)\n",
    ")\n",
    "\n",
    "df = pd.DataFrame.from_dict(list(docs_an))\n",
    "\n",
    "df.tail()"
   ]
  },
  {
   "cell_type": "code",
   "execution_count": 3,
   "metadata": {
    "collapsed": false,
    "deletable": true,
    "editable": true
   },
   "outputs": [
    {
     "data": {
      "image/png": "[encoded data removed]",
      "text/plain": [
       "<matplotlib.figure.Figure at 0x7fa8b8288be0>"
      ]
     },
     "metadata": {},
     "output_type": "display_data"
    }
   ],
   "source": [
    "plt.close()\n",
    "pdf = df.set_index('PY')\n",
    "pdf.plot()\n",
    "\n",
    "plt.show()"
   ]
  },
  {
   "cell_type": "code",
   "execution_count": 4,
   "metadata": {
    "collapsed": false,
    "deletable": true,
    "editable": true
   },
   "outputs": [
    {
     "data": {
      "text/html": [
       "<div>\n",
       "<style scoped>\n",
       "    .dataframe tbody tr th:only-of-type {\n",
       "        vertical-align: middle;\n",
       "    }\n",
       "\n",
       "    .dataframe tbody tr th {\n",
       "        vertical-align: top;\n",
       "    }\n",
       "\n",
       "    .dataframe thead th {\n",
       "        text-align: right;\n",
       "    }\n",
       "</style>\n",
       "<table border=\"1\" class=\"dataframe\">\n",
       "  <thead>\n",
       "    <tr style=\"text-align: right;\">\n",
       "      <th></th>\n",
       "      <th>PY</th>\n",
       "      <th>n_authors</th>\n",
       "      <th>n_docs</th>\n",
       "      <th>n_journals</th>\n",
       "      <th>n_keywords</th>\n",
       "      <th>n_words</th>\n",
       "    </tr>\n",
       "  </thead>\n",
       "  <tbody>\n",
       "    <tr>\n",
       "      <th>32</th>\n",
       "      <td>2013</td>\n",
       "      <td>107370</td>\n",
       "      <td>39823</td>\n",
       "      <td>6800</td>\n",
       "      <td>19130</td>\n",
       "      <td>25134</td>\n",
       "    </tr>\n",
       "    <tr>\n",
       "      <th>33</th>\n",
       "      <td>2014</td>\n",
       "      <td>117994</td>\n",
       "      <td>42850</td>\n",
       "      <td>7018</td>\n",
       "      <td>21037</td>\n",
       "      <td>26350</td>\n",
       "    </tr>\n",
       "    <tr>\n",
       "      <th>34</th>\n",
       "      <td>2015</td>\n",
       "      <td>123812</td>\n",
       "      <td>43712</td>\n",
       "      <td>7125</td>\n",
       "      <td>23294</td>\n",
       "      <td>27125</td>\n",
       "    </tr>\n",
       "    <tr>\n",
       "      <th>35</th>\n",
       "      <td>2016</td>\n",
       "      <td>128430</td>\n",
       "      <td>44394</td>\n",
       "      <td>6582</td>\n",
       "      <td>26196</td>\n",
       "      <td>27370</td>\n",
       "    </tr>\n",
       "    <tr>\n",
       "      <th>36</th>\n",
       "      <td>2017</td>\n",
       "      <td>147563</td>\n",
       "      <td>51153</td>\n",
       "      <td>7481</td>\n",
       "      <td>28423</td>\n",
       "      <td>29479</td>\n",
       "    </tr>\n",
       "  </tbody>\n",
       "</table>\n",
       "</div>"
      ],
      "text/plain": [
       "      PY  n_authors  n_docs  n_journals  n_keywords  n_words\n",
       "32  2013     107370   39823        6800       19130    25134\n",
       "33  2014     117994   42850        7018       21037    26350\n",
       "34  2015     123812   43712        7125       23294    27125\n",
       "35  2016     128430   44394        6582       26196    27370\n",
       "36  2017     147563   51153        7481       28423    29479"
      ]
     },
     "execution_count": 4,
     "metadata": {},
     "output_type": "execute_result"
    }
   ],
   "source": [
    "def get_year_words(row,docs):\n",
    "    py = row['PY']\n",
    "    docs = docs.filter(PY=py)\n",
    "    abstracts, docsizes, ids, citations = proc_docs(docs, stoplist, False, False)\n",
    "    try:\n",
    "        count_vectorizer = CountVectorizer(\n",
    "            min_df=5,\n",
    "            max_features=100000,\n",
    "            ngram_range=(1,1),\n",
    "            stop_words=stoplist\n",
    "        )\n",
    "        tfidf = count_vectorizer.fit_transform(abstracts).shape[1]\n",
    "    except:\n",
    "        tfidf = 0\n",
    "    return tfidf\n",
    "    \n",
    "abstracts = get_year_words({'PY':1990},docs)\n",
    "df['n_words'] = df.apply(lambda x: get_year_words(x,docs),axis=1)\n",
    "\n",
    "df.tail()"
   ]
  },
  {
   "cell_type": "code",
   "execution_count": 5,
   "metadata": {
    "collapsed": false,
    "deletable": true,
    "editable": true
   },
   "outputs": [
    {
     "data": {
      "image/png": "[encoded data removed]",
      "text/plain": [
       "<matplotlib.figure.Figure at 0x7fa8b3882cf8>"
      ]
     },
     "metadata": {},
     "output_type": "display_data"
    }
   ],
   "source": [
    "plt.close()\n",
    "pdf = df.set_index('PY')\n",
    "pdf.plot()\n",
    "plt.savefig('../plots/vs_{}.png'.format(q.title))\n",
    "plt.show()"
   ]
  },
  {
   "cell_type": "code",
   "execution_count": null,
   "metadata": {
    "collapsed": true,
    "deletable": true,
    "editable": true
   },
   "outputs": [],
   "source": [
    "\n"
   ]
  },
  {
   "cell_type": "code",
   "execution_count": 6,
   "metadata": {
    "collapsed": false,
    "deletable": true,
    "editable": true
   },
   "outputs": [
    {
     "data": {
      "image/png": "[encoded data removed]",
      "text/plain": [
       "<matplotlib.figure.Figure at 0x7fa8b36a4b38>"
      ]
     },
     "metadata": {},
     "output_type": "display_data"
    }
   ],
   "source": [
    "df['key_docs'] = df['n_keywords']/df['n_docs']\n",
    "\n",
    "plt.close()\n",
    "pdf = df.set_index('PY')['key_docs']\n",
    "pdf.plot()\n",
    "plt.title(\"Unique keywords per document\")\n",
    "plt.savefig('../plots/scaled_variety_{}.png'.format(q.title))\n",
    "\n",
    "plt.show()"
   ]
  },
  {
   "cell_type": "code",
   "execution_count": 7,
   "metadata": {
    "collapsed": true,
    "deletable": true,
    "editable": true
   },
   "outputs": [],
   "source": [
    "df.to_csv('../data/vs_{}.csv'.format(q.title),index=False)"
   ]
  },
  {
   "cell_type": "markdown",
   "metadata": {
    "collapsed": true,
    "deletable": true,
    "editable": true
   },
   "source": [
    "  require(slam)\n",
    "  df[,\"z\"] <- df[,field]\n",
    "  df <- df %>%\n",
    "    ungroup() %>%\n",
    "    filter(PY >=y1 & PY <=y2 & PY%%5==0 & !is.na(z)) %>%\n",
    "    group_by(z)\n",
    "  \n",
    "  totals <- df %>%\n",
    "    mutate(\n",
    "      v1 = n[which.min(PY)],\n",
    "      v2 = n[which.max(PY)],\n",
    "      Growth = round(((v2/v1)^(1/(y2-y1))-1)*100) ,\n",
    "      period=paste0(\"Total: \",y1,\"-\",y2)\n",
    "    ) %>%\n",
    "    select(period,z,Growth) \n",
    "  \n",
    "  df_sum <- df %>%\n",
    "    mutate(\n",
    "      change = n- lag(n),\n",
    "      Growth = round(((n/lag(n))^(1/(PY-lag(PY)))-1)*100),\n",
    "      period = paste0(lag(PY),\"-\",PY)\n",
    "    ) %>%\n",
    "    filter(!is.na(change)) %>%\n",
    "    select(period,z,Growth)"
   ]
  },
  {
   "cell_type": "code",
   "execution_count": 8,
   "metadata": {
    "collapsed": false,
    "deletable": true,
    "editable": true
   },
   "outputs": [
    {
     "name": "stdout",
     "output_type": "stream",
     "text": [
      "13.19\n"
     ]
    },
    {
     "name": "stderr",
     "output_type": "stream",
     "text": [
      "/home/galm/software/django/tmvenv/lib/python3.4/site-packages/ipykernel_launcher.py:2: SettingWithCopyWarning: \n",
      "A value is trying to be set on a copy of a slice from a DataFrame.\n",
      "Try using .loc[row_indexer,col_indexer] = value instead\n",
      "\n",
      "See the caveats in the documentation: http://pandas.pydata.org/pandas-docs/stable/indexing.html#indexing-view-versus-copy\n",
      "  \n",
      "/home/galm/software/django/tmvenv/lib/python3.4/site-packages/ipykernel_launcher.py:3: SettingWithCopyWarning: \n",
      "A value is trying to be set on a copy of a slice from a DataFrame.\n",
      "Try using .loc[row_indexer,col_indexer] = value instead\n",
      "\n",
      "See the caveats in the documentation: http://pandas.pydata.org/pandas-docs/stable/indexing.html#indexing-view-versus-copy\n",
      "  This is separate from the ipykernel package so we can avoid doing imports until\n"
     ]
    }
   ],
   "source": [
    "docs = df[['PY','n_docs']]\n",
    "docs['lower_bound'] = docs['n_docs']\n",
    "docs['upper_bound'] = docs['n_docs']\n",
    "\n",
    "def growth_rate(df,v,nyears=0):\n",
    "    if nyears > 0:\n",
    "        df = df[df['PY']>df.max()['PY']-nyears]\n",
    "    y1 = df.min()['PY']\n",
    "    y2 = df.max()['PY']\n",
    "    v1 = df[df['PY']==y1][v].iloc[0]\n",
    "    v2 = df[df['PY']==y2][v].iloc[0]\n",
    "    g = round(((v2/v1)**(1/(y2-y1))-1)*100,2)\n",
    "    return g\n",
    "\n",
    "#docs.head()\n",
    "\n",
    "grate = growth_rate(df,'n_docs',15)\n",
    "print(grate)\n",
    "\n",
    "docs.tail()\n",
    "\n",
    "for y in [2017,2018,2019,2020,2021]:\n",
    "    r = pd.DataFrame(data={\n",
    "        'PY':y,\n",
    "        'lower_bound': docs[docs['PY']==y-1]['lower_bound'],\n",
    "        'upper_bound': docs[docs['PY']==y-1]['upper_bound'].iloc[0]*(1+grate/100)\n",
    "    })\n",
    "    docs = docs.append(r)\n",
    "    \n",
    "docs.tail()\n",
    "\n",
    "docs.to_csv('../data/PY_docs_projections_{}.csv'.format(q.title),index=False)"
   ]
  },
  {
   "cell_type": "code",
   "execution_count": 9,
   "metadata": {
    "collapsed": false,
    "deletable": true,
    "editable": true
   },
   "outputs": [
    {
     "data": {
      "text/html": [
       "<div>\n",
       "<style scoped>\n",
       "    .dataframe tbody tr th:only-of-type {\n",
       "        vertical-align: middle;\n",
       "    }\n",
       "\n",
       "    .dataframe tbody tr th {\n",
       "        vertical-align: top;\n",
       "    }\n",
       "\n",
       "    .dataframe thead th {\n",
       "        text-align: right;\n",
       "    }\n",
       "</style>\n",
       "<table border=\"1\" class=\"dataframe\">\n",
       "  <thead>\n",
       "    <tr style=\"text-align: right;\">\n",
       "      <th></th>\n",
       "      <th>PY</th>\n",
       "      <th>lower_bound</th>\n",
       "      <th>n_docs</th>\n",
       "      <th>upper_bound</th>\n",
       "    </tr>\n",
       "  </thead>\n",
       "  <tbody>\n",
       "    <tr>\n",
       "      <th>0</th>\n",
       "      <td>1981</td>\n",
       "      <td>558</td>\n",
       "      <td>558.0</td>\n",
       "      <td>558.000000</td>\n",
       "    </tr>\n",
       "    <tr>\n",
       "      <th>1</th>\n",
       "      <td>1982</td>\n",
       "      <td>547</td>\n",
       "      <td>547.0</td>\n",
       "      <td>547.000000</td>\n",
       "    </tr>\n",
       "    <tr>\n",
       "      <th>2</th>\n",
       "      <td>1983</td>\n",
       "      <td>641</td>\n",
       "      <td>641.0</td>\n",
       "      <td>641.000000</td>\n",
       "    </tr>\n",
       "    <tr>\n",
       "      <th>3</th>\n",
       "      <td>1984</td>\n",
       "      <td>747</td>\n",
       "      <td>747.0</td>\n",
       "      <td>747.000000</td>\n",
       "    </tr>\n",
       "    <tr>\n",
       "      <th>4</th>\n",
       "      <td>1985</td>\n",
       "      <td>624</td>\n",
       "      <td>624.0</td>\n",
       "      <td>624.000000</td>\n",
       "    </tr>\n",
       "    <tr>\n",
       "      <th>5</th>\n",
       "      <td>1986</td>\n",
       "      <td>618</td>\n",
       "      <td>618.0</td>\n",
       "      <td>618.000000</td>\n",
       "    </tr>\n",
       "    <tr>\n",
       "      <th>6</th>\n",
       "      <td>1987</td>\n",
       "      <td>703</td>\n",
       "      <td>703.0</td>\n",
       "      <td>703.000000</td>\n",
       "    </tr>\n",
       "    <tr>\n",
       "      <th>7</th>\n",
       "      <td>1988</td>\n",
       "      <td>843</td>\n",
       "      <td>843.0</td>\n",
       "      <td>843.000000</td>\n",
       "    </tr>\n",
       "    <tr>\n",
       "      <th>8</th>\n",
       "      <td>1989</td>\n",
       "      <td>1299</td>\n",
       "      <td>1299.0</td>\n",
       "      <td>1299.000000</td>\n",
       "    </tr>\n",
       "    <tr>\n",
       "      <th>9</th>\n",
       "      <td>1990</td>\n",
       "      <td>1953</td>\n",
       "      <td>1953.0</td>\n",
       "      <td>1953.000000</td>\n",
       "    </tr>\n",
       "    <tr>\n",
       "      <th>10</th>\n",
       "      <td>1991</td>\n",
       "      <td>2656</td>\n",
       "      <td>2656.0</td>\n",
       "      <td>2656.000000</td>\n",
       "    </tr>\n",
       "    <tr>\n",
       "      <th>11</th>\n",
       "      <td>1992</td>\n",
       "      <td>2732</td>\n",
       "      <td>2732.0</td>\n",
       "      <td>2732.000000</td>\n",
       "    </tr>\n",
       "    <tr>\n",
       "      <th>12</th>\n",
       "      <td>1993</td>\n",
       "      <td>3107</td>\n",
       "      <td>3107.0</td>\n",
       "      <td>3107.000000</td>\n",
       "    </tr>\n",
       "    <tr>\n",
       "      <th>13</th>\n",
       "      <td>1994</td>\n",
       "      <td>3051</td>\n",
       "      <td>3051.0</td>\n",
       "      <td>3051.000000</td>\n",
       "    </tr>\n",
       "    <tr>\n",
       "      <th>14</th>\n",
       "      <td>1995</td>\n",
       "      <td>3668</td>\n",
       "      <td>3668.0</td>\n",
       "      <td>3668.000000</td>\n",
       "    </tr>\n",
       "    <tr>\n",
       "      <th>15</th>\n",
       "      <td>1996</td>\n",
       "      <td>3943</td>\n",
       "      <td>3943.0</td>\n",
       "      <td>3943.000000</td>\n",
       "    </tr>\n",
       "    <tr>\n",
       "      <th>16</th>\n",
       "      <td>1997</td>\n",
       "      <td>4296</td>\n",
       "      <td>4296.0</td>\n",
       "      <td>4296.000000</td>\n",
       "    </tr>\n",
       "    <tr>\n",
       "      <th>17</th>\n",
       "      <td>1998</td>\n",
       "      <td>4921</td>\n",
       "      <td>4921.0</td>\n",
       "      <td>4921.000000</td>\n",
       "    </tr>\n",
       "    <tr>\n",
       "      <th>18</th>\n",
       "      <td>1999</td>\n",
       "      <td>5606</td>\n",
       "      <td>5606.0</td>\n",
       "      <td>5606.000000</td>\n",
       "    </tr>\n",
       "    <tr>\n",
       "      <th>19</th>\n",
       "      <td>2000</td>\n",
       "      <td>6308</td>\n",
       "      <td>6308.0</td>\n",
       "      <td>6308.000000</td>\n",
       "    </tr>\n",
       "    <tr>\n",
       "      <th>20</th>\n",
       "      <td>2001</td>\n",
       "      <td>6874</td>\n",
       "      <td>6874.0</td>\n",
       "      <td>6874.000000</td>\n",
       "    </tr>\n",
       "    <tr>\n",
       "      <th>21</th>\n",
       "      <td>2002</td>\n",
       "      <td>7825</td>\n",
       "      <td>7825.0</td>\n",
       "      <td>7825.000000</td>\n",
       "    </tr>\n",
       "    <tr>\n",
       "      <th>22</th>\n",
       "      <td>2003</td>\n",
       "      <td>9025</td>\n",
       "      <td>9025.0</td>\n",
       "      <td>9025.000000</td>\n",
       "    </tr>\n",
       "    <tr>\n",
       "      <th>23</th>\n",
       "      <td>2004</td>\n",
       "      <td>11066</td>\n",
       "      <td>11066.0</td>\n",
       "      <td>11066.000000</td>\n",
       "    </tr>\n",
       "    <tr>\n",
       "      <th>24</th>\n",
       "      <td>2005</td>\n",
       "      <td>13019</td>\n",
       "      <td>13019.0</td>\n",
       "      <td>13019.000000</td>\n",
       "    </tr>\n",
       "    <tr>\n",
       "      <th>25</th>\n",
       "      <td>2006</td>\n",
       "      <td>13611</td>\n",
       "      <td>13611.0</td>\n",
       "      <td>13611.000000</td>\n",
       "    </tr>\n",
       "    <tr>\n",
       "      <th>26</th>\n",
       "      <td>2007</td>\n",
       "      <td>17686</td>\n",
       "      <td>17686.0</td>\n",
       "      <td>17686.000000</td>\n",
       "    </tr>\n",
       "    <tr>\n",
       "      <th>27</th>\n",
       "      <td>2008</td>\n",
       "      <td>20213</td>\n",
       "      <td>20213.0</td>\n",
       "      <td>20213.000000</td>\n",
       "    </tr>\n",
       "    <tr>\n",
       "      <th>28</th>\n",
       "      <td>2009</td>\n",
       "      <td>24369</td>\n",
       "      <td>24369.0</td>\n",
       "      <td>24369.000000</td>\n",
       "    </tr>\n",
       "    <tr>\n",
       "      <th>29</th>\n",
       "      <td>2010</td>\n",
       "      <td>28222</td>\n",
       "      <td>28222.0</td>\n",
       "      <td>28222.000000</td>\n",
       "    </tr>\n",
       "    <tr>\n",
       "      <th>30</th>\n",
       "      <td>2011</td>\n",
       "      <td>32387</td>\n",
       "      <td>32387.0</td>\n",
       "      <td>32387.000000</td>\n",
       "    </tr>\n",
       "    <tr>\n",
       "      <th>31</th>\n",
       "      <td>2012</td>\n",
       "      <td>35158</td>\n",
       "      <td>35158.0</td>\n",
       "      <td>35158.000000</td>\n",
       "    </tr>\n",
       "    <tr>\n",
       "      <th>32</th>\n",
       "      <td>2013</td>\n",
       "      <td>39823</td>\n",
       "      <td>39823.0</td>\n",
       "      <td>39823.000000</td>\n",
       "    </tr>\n",
       "    <tr>\n",
       "      <th>33</th>\n",
       "      <td>2014</td>\n",
       "      <td>42850</td>\n",
       "      <td>42850.0</td>\n",
       "      <td>42850.000000</td>\n",
       "    </tr>\n",
       "    <tr>\n",
       "      <th>34</th>\n",
       "      <td>2015</td>\n",
       "      <td>43712</td>\n",
       "      <td>43712.0</td>\n",
       "      <td>43712.000000</td>\n",
       "    </tr>\n",
       "    <tr>\n",
       "      <th>35</th>\n",
       "      <td>2016</td>\n",
       "      <td>44394</td>\n",
       "      <td>44394.0</td>\n",
       "      <td>44394.000000</td>\n",
       "    </tr>\n",
       "    <tr>\n",
       "      <th>36</th>\n",
       "      <td>2017</td>\n",
       "      <td>51153</td>\n",
       "      <td>51153.0</td>\n",
       "      <td>51153.000000</td>\n",
       "    </tr>\n",
       "    <tr>\n",
       "      <th>35</th>\n",
       "      <td>2017</td>\n",
       "      <td>44394</td>\n",
       "      <td>NaN</td>\n",
       "      <td>50249.568600</td>\n",
       "    </tr>\n",
       "    <tr>\n",
       "      <th>36</th>\n",
       "      <td>2018</td>\n",
       "      <td>51153</td>\n",
       "      <td>NaN</td>\n",
       "      <td>57900.080700</td>\n",
       "    </tr>\n",
       "    <tr>\n",
       "      <th>35</th>\n",
       "      <td>2018</td>\n",
       "      <td>44394</td>\n",
       "      <td>NaN</td>\n",
       "      <td>57900.080700</td>\n",
       "    </tr>\n",
       "    <tr>\n",
       "      <th>36</th>\n",
       "      <td>2019</td>\n",
       "      <td>51153</td>\n",
       "      <td>NaN</td>\n",
       "      <td>65537.101344</td>\n",
       "    </tr>\n",
       "    <tr>\n",
       "      <th>35</th>\n",
       "      <td>2019</td>\n",
       "      <td>44394</td>\n",
       "      <td>NaN</td>\n",
       "      <td>65537.101344</td>\n",
       "    </tr>\n",
       "    <tr>\n",
       "      <th>36</th>\n",
       "      <td>2020</td>\n",
       "      <td>51153</td>\n",
       "      <td>NaN</td>\n",
       "      <td>74181.445012</td>\n",
       "    </tr>\n",
       "    <tr>\n",
       "      <th>35</th>\n",
       "      <td>2020</td>\n",
       "      <td>44394</td>\n",
       "      <td>NaN</td>\n",
       "      <td>74181.445012</td>\n",
       "    </tr>\n",
       "    <tr>\n",
       "      <th>36</th>\n",
       "      <td>2021</td>\n",
       "      <td>51153</td>\n",
       "      <td>NaN</td>\n",
       "      <td>83965.977609</td>\n",
       "    </tr>\n",
       "    <tr>\n",
       "      <th>35</th>\n",
       "      <td>2021</td>\n",
       "      <td>44394</td>\n",
       "      <td>NaN</td>\n",
       "      <td>83965.977609</td>\n",
       "    </tr>\n",
       "  </tbody>\n",
       "</table>\n",
       "</div>"
      ],
      "text/plain": [
       "      PY  lower_bound   n_docs   upper_bound\n",
       "0   1981          558    558.0    558.000000\n",
       "1   1982          547    547.0    547.000000\n",
       "2   1983          641    641.0    641.000000\n",
       "3   1984          747    747.0    747.000000\n",
       "4   1985          624    624.0    624.000000\n",
       "5   1986          618    618.0    618.000000\n",
       "6   1987          703    703.0    703.000000\n",
       "7   1988          843    843.0    843.000000\n",
       "8   1989         1299   1299.0   1299.000000\n",
       "9   1990         1953   1953.0   1953.000000\n",
       "10  1991         2656   2656.0   2656.000000\n",
       "11  1992         2732   2732.0   2732.000000\n",
       "12  1993         3107   3107.0   3107.000000\n",
       "13  1994         3051   3051.0   3051.000000\n",
       "14  1995         3668   3668.0   3668.000000\n",
       "15  1996         3943   3943.0   3943.000000\n",
       "16  1997         4296   4296.0   4296.000000\n",
       "17  1998         4921   4921.0   4921.000000\n",
       "18  1999         5606   5606.0   5606.000000\n",
       "19  2000         6308   6308.0   6308.000000\n",
       "20  2001         6874   6874.0   6874.000000\n",
       "21  2002         7825   7825.0   7825.000000\n",
       "22  2003         9025   9025.0   9025.000000\n",
       "23  2004        11066  11066.0  11066.000000\n",
       "24  2005        13019  13019.0  13019.000000\n",
       "25  2006        13611  13611.0  13611.000000\n",
       "26  2007        17686  17686.0  17686.000000\n",
       "27  2008        20213  20213.0  20213.000000\n",
       "28  2009        24369  24369.0  24369.000000\n",
       "29  2010        28222  28222.0  28222.000000\n",
       "30  2011        32387  32387.0  32387.000000\n",
       "31  2012        35158  35158.0  35158.000000\n",
       "32  2013        39823  39823.0  39823.000000\n",
       "33  2014        42850  42850.0  42850.000000\n",
       "34  2015        43712  43712.0  43712.000000\n",
       "35  2016        44394  44394.0  44394.000000\n",
       "36  2017        51153  51153.0  51153.000000\n",
       "35  2017        44394      NaN  50249.568600\n",
       "36  2018        51153      NaN  57900.080700\n",
       "35  2018        44394      NaN  57900.080700\n",
       "36  2019        51153      NaN  65537.101344\n",
       "35  2019        44394      NaN  65537.101344\n",
       "36  2020        51153      NaN  74181.445012\n",
       "35  2020        44394      NaN  74181.445012\n",
       "36  2021        51153      NaN  83965.977609\n",
       "35  2021        44394      NaN  83965.977609"
      ]
     },
     "execution_count": 9,
     "metadata": {},
     "output_type": "execute_result"
    }
   ],
   "source": [
    "docs"
   ]
  },
  {
   "cell_type": "code",
   "execution_count": 10,
   "metadata": {
    "collapsed": false,
    "deletable": true,
    "editable": true
   },
   "outputs": [
    {
     "ename": "ValueError",
     "evalue": "incompatible sizes: argument 'height' must be length 1 or scalar",
     "output_type": "error",
     "traceback": [
      "\u001b[0;31m---------------------------------------------------------------------------\u001b[0m",
      "\u001b[0;31mValueError\u001b[0m                                Traceback (most recent call last)",
      "\u001b[0;32m<ipython-input-10-794ee7724c83>\u001b[0m in \u001b[0;36m<module>\u001b[0;34m()\u001b[0m\n\u001b[1;32m      1\u001b[0m \u001b[0;32mfor\u001b[0m \u001b[0my\u001b[0m\u001b[0;34m,\u001b[0m \u001b[0mgroup\u001b[0m \u001b[0;32min\u001b[0m \u001b[0mdocs\u001b[0m\u001b[0;34m.\u001b[0m\u001b[0mgroupby\u001b[0m\u001b[0;34m(\u001b[0m\u001b[0;34m'PY'\u001b[0m\u001b[0;34m)\u001b[0m\u001b[0;34m:\u001b[0m\u001b[0;34m\u001b[0m\u001b[0m\n\u001b[0;32m----> 2\u001b[0;31m     \u001b[0mplt\u001b[0m\u001b[0;34m.\u001b[0m\u001b[0mbar\u001b[0m\u001b[0;34m(\u001b[0m\u001b[0my\u001b[0m\u001b[0;34m,\u001b[0m\u001b[0mgroup\u001b[0m\u001b[0;34m[\u001b[0m\u001b[0;34m'lower_bound'\u001b[0m\u001b[0;34m]\u001b[0m\u001b[0;34m,\u001b[0m\u001b[0mcolor\u001b[0m\u001b[0;34m=\u001b[0m\u001b[0;34m'#fbb4ae'\u001b[0m\u001b[0;34m)\u001b[0m\u001b[0;34m\u001b[0m\u001b[0m\n\u001b[0m\u001b[1;32m      3\u001b[0m     \u001b[0;32mif\u001b[0m \u001b[0mgroup\u001b[0m\u001b[0;34m[\u001b[0m\u001b[0;34m'upper_bound'\u001b[0m\u001b[0;34m]\u001b[0m\u001b[0;34m.\u001b[0m\u001b[0miloc\u001b[0m\u001b[0;34m[\u001b[0m\u001b[0;36m0\u001b[0m\u001b[0;34m]\u001b[0m \u001b[0;34m>\u001b[0m \u001b[0mgroup\u001b[0m\u001b[0;34m[\u001b[0m\u001b[0;34m'lower_bound'\u001b[0m\u001b[0;34m]\u001b[0m\u001b[0;34m.\u001b[0m\u001b[0miloc\u001b[0m\u001b[0;34m[\u001b[0m\u001b[0;36m0\u001b[0m\u001b[0;34m]\u001b[0m\u001b[0;34m:\u001b[0m\u001b[0;34m\u001b[0m\u001b[0m\n\u001b[1;32m      4\u001b[0m         \u001b[0mplt\u001b[0m\u001b[0;34m.\u001b[0m\u001b[0mbar\u001b[0m\u001b[0;34m(\u001b[0m\u001b[0my\u001b[0m\u001b[0;34m,\u001b[0m\u001b[0mgroup\u001b[0m\u001b[0;34m[\u001b[0m\u001b[0;34m'upper_bound'\u001b[0m\u001b[0;34m]\u001b[0m\u001b[0;34m,\u001b[0m\u001b[0mcolor\u001b[0m\u001b[0;34m=\u001b[0m\u001b[0;34m'#fbb4ae'\u001b[0m\u001b[0;34m,\u001b[0m\u001b[0malpha\u001b[0m\u001b[0;34m=\u001b[0m\u001b[0;36m0.5\u001b[0m\u001b[0;34m)\u001b[0m\u001b[0;34m\u001b[0m\u001b[0m\n",
      "\u001b[0;32m~/software/django/tmvenv/lib/python3.4/site-packages/matplotlib/pyplot.py\u001b[0m in \u001b[0;36mbar\u001b[0;34m(left, height, width, bottom, hold, data, **kwargs)\u001b[0m\n\u001b[1;32m   2702\u001b[0m     \u001b[0;32mtry\u001b[0m\u001b[0;34m:\u001b[0m\u001b[0;34m\u001b[0m\u001b[0m\n\u001b[1;32m   2703\u001b[0m         ret = ax.bar(left, height, width=width, bottom=bottom, data=data,\n\u001b[0;32m-> 2704\u001b[0;31m                      **kwargs)\n\u001b[0m\u001b[1;32m   2705\u001b[0m     \u001b[0;32mfinally\u001b[0m\u001b[0;34m:\u001b[0m\u001b[0;34m\u001b[0m\u001b[0m\n\u001b[1;32m   2706\u001b[0m         \u001b[0max\u001b[0m\u001b[0;34m.\u001b[0m\u001b[0m_hold\u001b[0m \u001b[0;34m=\u001b[0m \u001b[0mwashold\u001b[0m\u001b[0;34m\u001b[0m\u001b[0m\n",
      "\u001b[0;32m~/software/django/tmvenv/lib/python3.4/site-packages/matplotlib/__init__.py\u001b[0m in \u001b[0;36minner\u001b[0;34m(ax, *args, **kwargs)\u001b[0m\n\u001b[1;32m   1896\u001b[0m                     warnings.warn(msg % (label_namer, func.__name__),\n\u001b[1;32m   1897\u001b[0m                                   RuntimeWarning, stacklevel=2)\n\u001b[0;32m-> 1898\u001b[0;31m             \u001b[0;32mreturn\u001b[0m \u001b[0mfunc\u001b[0m\u001b[0;34m(\u001b[0m\u001b[0max\u001b[0m\u001b[0;34m,\u001b[0m \u001b[0;34m*\u001b[0m\u001b[0margs\u001b[0m\u001b[0;34m,\u001b[0m \u001b[0;34m**\u001b[0m\u001b[0mkwargs\u001b[0m\u001b[0;34m)\u001b[0m\u001b[0;34m\u001b[0m\u001b[0m\n\u001b[0m\u001b[1;32m   1899\u001b[0m         \u001b[0mpre_doc\u001b[0m \u001b[0;34m=\u001b[0m \u001b[0minner\u001b[0m\u001b[0;34m.\u001b[0m\u001b[0m__doc__\u001b[0m\u001b[0;34m\u001b[0m\u001b[0m\n\u001b[1;32m   1900\u001b[0m         \u001b[0;32mif\u001b[0m \u001b[0mpre_doc\u001b[0m \u001b[0;32mis\u001b[0m \u001b[0;32mNone\u001b[0m\u001b[0;34m:\u001b[0m\u001b[0;34m\u001b[0m\u001b[0m\n",
      "\u001b[0;32m~/software/django/tmvenv/lib/python3.4/site-packages/matplotlib/axes/_axes.py\u001b[0m in \u001b[0;36mbar\u001b[0;34m(self, left, height, width, bottom, **kwargs)\u001b[0m\n\u001b[1;32m   2077\u001b[0m         \u001b[0;32mif\u001b[0m \u001b[0mlen\u001b[0m\u001b[0;34m(\u001b[0m\u001b[0mheight\u001b[0m\u001b[0;34m)\u001b[0m \u001b[0;34m!=\u001b[0m \u001b[0mnbars\u001b[0m\u001b[0;34m:\u001b[0m\u001b[0;34m\u001b[0m\u001b[0m\n\u001b[1;32m   2078\u001b[0m             raise ValueError(\"incompatible sizes: argument 'height' \"\n\u001b[0;32m-> 2079\u001b[0;31m                               \"must be length %d or scalar\" % nbars)\n\u001b[0m\u001b[1;32m   2080\u001b[0m         \u001b[0;32mif\u001b[0m \u001b[0mlen\u001b[0m\u001b[0;34m(\u001b[0m\u001b[0mwidth\u001b[0m\u001b[0;34m)\u001b[0m \u001b[0;34m!=\u001b[0m \u001b[0mnbars\u001b[0m\u001b[0;34m:\u001b[0m\u001b[0;34m\u001b[0m\u001b[0m\n\u001b[1;32m   2081\u001b[0m             raise ValueError(\"incompatible sizes: argument 'width' \"\n",
      "\u001b[0;31mValueError\u001b[0m: incompatible sizes: argument 'height' must be length 1 or scalar"
     ]
    },
    {
     "data": {
      "image/png": "[encoded data removed]",
      "text/plain": [
       "<matplotlib.figure.Figure at 0x7fa8b3d6d550>"
      ]
     },
     "metadata": {},
     "output_type": "display_data"
    }
   ],
   "source": [
    "for y, group in docs.groupby('PY'):\n",
    "    plt.bar(y,group['lower_bound'],color='#fbb4ae')\n",
    "    if group['upper_bound'].iloc[0] > group['lower_bound'].iloc[0]:\n",
    "        plt.bar(y,group['upper_bound'],color='#fbb4ae',alpha=0.5)"
   ]
  },
  {
   "cell_type": "code",
   "execution_count": 11,
   "metadata": {
    "collapsed": false,
    "deletable": true,
    "editable": true
   },
   "outputs": [],
   "source": [
    "def sum_field(row,df,col):\n",
    "    yrange = list(range(row['start'],row['end']+1))\n",
    "    df = df[df['PY'].isin(yrange)]\n",
    "    return df.sum()[col]\n",
    "\n",
    "\n",
    "## Docs by assessment period\n",
    "aps = AR.objects.all().order_by('ar')\n",
    "ardf = pd.DataFrame.from_dict(list(aps.values('ar','name','start','end')))\n",
    "ardf['n_docs_lower'] = ardf.apply(lambda x: sum_field(x,docs,'lower_bound'),axis=1)\n",
    "ardf['n_docs_upper'] = ardf.apply(lambda x: sum_field(x,docs,'upper_bound'),axis=1)\n",
    "ardf.tail()\n",
    "\n",
    "ardf.to_csv('../data/ar_docs_projections_{}.csv'.format(q.title),index=False)"
   ]
  },
  {
   "cell_type": "code",
   "execution_count": 12,
   "metadata": {
    "collapsed": false,
    "deletable": true,
    "editable": true
   },
   "outputs": [],
   "source": [
    "ardf = pd.DataFrame.from_dict(list(aps.values('ar','name','start','end')))\n",
    "\n",
    "for c in df.columns:\n",
    "    if c not in [\"PY\",\"key_docs\"]:\n",
    "        ardf[c] = ardf.apply(lambda x: sum_field(x,df,c),axis=1)\n",
    "        \n",
    "        \n",
    "df['key_docs'] = ardf['n_keywords']/ardf['n_docs']        \n",
    "ardf.head()\n",
    "\n",
    "ardf.to_csv('../data/vs_by_ar_{}.csv'.format(q.title),index=False)"
   ]
  },
  {
   "cell_type": "code",
   "execution_count": 13,
   "metadata": {
    "collapsed": false,
    "deletable": true,
    "editable": true
   },
   "outputs": [
    {
     "data": {
      "text/plain": [
       "<QuerySet [<Query: wos_all>, <Query: wos_2017>]>"
      ]
     },
     "execution_count": 13,
     "metadata": {},
     "output_type": "execute_result"
    }
   ],
   "source": [
    "wosqs = Query.objects.filter(project_id=23,database=\"WoS\").exclude(title__in=[\"haunschild\",\"bla\",\"ipcc\",\"energy_policy\"])\n",
    "scopusqs = Query.objects.filter(project_id=23,database=\"scopus\").exclude(title__in=[\"scopus 1990\"])\n",
    "wosqs"
   ]
  },
  {
   "cell_type": "code",
   "execution_count": null,
   "metadata": {
    "collapsed": false,
    "deletable": true,
    "editable": true
   },
   "outputs": [
    {
     "name": "stdout",
     "output_type": "stream",
     "text": [
      "1981\n",
      "1982\n",
      "1983\n",
      "1984\n",
      "1985\n",
      "1986\n",
      "1987\n",
      "1988\n",
      "1989\n",
      "1990\n",
      "1991\n",
      "1992\n",
      "1993\n",
      "1994\n",
      "1995\n",
      "1996\n",
      "1997\n",
      "1998\n",
      "1999\n",
      "2000\n",
      "2001\n",
      "2002\n",
      "2003\n",
      "2004\n"
     ]
    }
   ],
   "source": [
    "docs = Doc.objects.filter(query=q,PY__lt=2018,PY__gt=1980)\n",
    "doc_counts = []\n",
    "for py in range(1981,2018):\n",
    "    print(py)\n",
    "    pydocs = docs.filter(PY=py)\n",
    "    wosdocs = set(pydocs.filter(query__in=wosqs).values_list('id',flat=True))\n",
    "    scopusdocs = set(pydocs.filter(query__in=scopusqs).values_list('id',flat=True))\n",
    "    wos = len(wosdocs)\n",
    "    scopus = len(scopusdocs)\n",
    "    both = len(wosdocs & scopusdocs)\n",
    "    wos_only = len(wosdocs - scopusdocs)\n",
    "    scopus_only = len(scopusdocs - wosdocs)\n",
    "    doc_counts.append({\n",
    "        'wos':wos,\n",
    "        'scopus': scopus,\n",
    "        'both': both,\n",
    "        'wos_only': wos_only,\n",
    "        'scopus_only': scopus_only\n",
    "    })"
   ]
  },
  {
   "cell_type": "code",
   "execution_count": null,
   "metadata": {
    "collapsed": false,
    "deletable": true,
    "editable": true
   },
   "outputs": [],
   "source": [
    "wsdocs = pd.DataFrame.from_dict(doc_counts)\n",
    "wsdocs['PY'] = list(range(1981,2018))\n",
    "wsdocs.tail()"
   ]
  },
  {
   "cell_type": "code",
   "execution_count": null,
   "metadata": {
    "collapsed": false,
    "deletable": true,
    "editable": true
   },
   "outputs": [],
   "source": [
    "wsdocs[wsdocs['PY']>2010].plot.bar()"
   ]
  },
  {
   "cell_type": "code",
   "execution_count": null,
   "metadata": {
    "collapsed": false,
    "deletable": true,
    "editable": true
   },
   "outputs": [],
   "source": [
    "wsdocs['scopus'].plot.bar()"
   ]
  },
  {
   "cell_type": "code",
   "execution_count": null,
   "metadata": {
    "collapsed": false,
    "deletable": true,
    "editable": true
   },
   "outputs": [],
   "source": [
    "wsdocs['total'] = wsdocs['both'] + wsdocs['wos_only'] + wsdocs['scopus_only']\n",
    "wsdocs['scopus_share'] = wsdocs['scopus'] / wsdocs['total']\n",
    "wsdocs['wos_share'] = wsdocs['wos'] / wsdocs['total']\n",
    "wsdocs.tail(20)"
   ]
  },
  {
   "cell_type": "code",
   "execution_count": null,
   "metadata": {
    "collapsed": false,
    "deletable": true,
    "editable": true
   },
   "outputs": [],
   "source": [
    "wsdocs['n_docs_estimate'] = wsdocs['total']\n",
    "wsdocs.loc[wsdocs['PY']>2013,'n_docs_estimate'] = wsdocs[wsdocs['PY']>2013]['wos']/0.65\n",
    "\n",
    "wsdocs.tail()"
   ]
  },
  {
   "cell_type": "code",
   "execution_count": null,
   "metadata": {
    "collapsed": false,
    "deletable": true,
    "editable": true
   },
   "outputs": [],
   "source": [
    "pdf = wsdocs.set_index('PY')\n",
    "pdf['n_docs_estimate'].plot()"
   ]
  },
  {
   "cell_type": "code",
   "execution_count": null,
   "metadata": {
    "collapsed": false,
    "deletable": true,
    "editable": true
   },
   "outputs": [],
   "source": [
    "wsdocs['n_docs'] = wsdocs['n_docs_estimate']\n",
    "docs = wsdocs[['PY','n_docs','wos']].copy()\n",
    "docs.loc[:,'lower_bound'] = docs.loc[:,'n_docs']\n",
    "docs['upper_bound'] = docs['n_docs']\n",
    "\n",
    "def growth_rate(df,v,nyears=0):\n",
    "    if nyears > 0:\n",
    "        df = df[df['PY']>df.max()['PY']-nyears]\n",
    "    y1 = df.min()['PY']\n",
    "    y2 = df.max()['PY']\n",
    "    v1 = df[df['PY']==y1][v].iloc[0]\n",
    "    v2 = df[df['PY']==y2][v].iloc[0]\n",
    "    g = round(((v2/v1)**(1/(y2-y1))-1)*100,2)\n",
    "    return g\n",
    "\n",
    "\n",
    "grate = growth_rate(docs,'n_docs',15)\n",
    "print(grate)\n",
    "\n",
    "docs.tail()\n",
    "\n",
    "for y in [2018,2019,2020]:\n",
    "    r = pd.DataFrame(data={\n",
    "        'PY':y,\n",
    "        'lower_bound': docs[docs['PY']==y-1]['lower_bound'],\n",
    "        'upper_bound': docs[docs['PY']==y-1]['upper_bound'].iloc[0]*(1+grate/100)\n",
    "    })\n",
    "    docs = docs.append(r)\n",
    "    \n",
    "docs.tail()\n",
    "\n",
    "docs.to_csv('../data/PY_docs_projections_wos_scopus_{}.csv'.format(q.title),index=False)"
   ]
  },
  {
   "cell_type": "code",
   "execution_count": null,
   "metadata": {
    "collapsed": false,
    "deletable": true,
    "editable": true
   },
   "outputs": [],
   "source": []
  },
  {
   "cell_type": "code",
   "execution_count": null,
   "metadata": {
    "collapsed": false,
    "deletable": true,
    "editable": true
   },
   "outputs": [],
   "source": [
    "def sum_field(row,df,col):\n",
    "    yrange = list(range(row['start'],row['end']+1))\n",
    "    df = df[df['PY'].isin(yrange)]\n",
    "    return df.sum()[col]\n",
    "\n",
    "def get_ipcc_refs(x):\n",
    "    ar = AR.objects.get(name=x['name'])\n",
    "    iprs = IPCCRef.objects.filter(\n",
    "        wg__ar=ar,\n",
    "        year__gte=ar.start\n",
    "    ).distinct()\n",
    "    return iprs.count()\n",
    "    \n",
    "## Docs by assessment period\n",
    "aps = AR.objects.all().order_by('ar')\n",
    "ardf = pd.DataFrame.from_dict(list(aps.values('ar','name','start','end')))\n",
    "ardf['n_docs_lower'] = ardf.apply(lambda x: sum_field(x,docs,'lower_bound'),axis=1)\n",
    "ardf['n_docs_upper'] = ardf.apply(lambda x: sum_field(x,docs,'upper_bound'),axis=1)\n",
    "ardf['wos'] = ardf.apply(lambda x: sum_field(x,docs,'wos'),axis=1)\n",
    "ardf['ipcc_citations'] = ardf.apply(lambda x: get_ipcc_refs(x),axis=1)\n",
    "\n",
    "ardf.tail()"
   ]
  },
  {
   "cell_type": "code",
   "execution_count": null,
   "metadata": {
    "collapsed": false,
    "deletable": true,
    "editable": true
   },
   "outputs": [],
   "source": [
    "ardf['ipcc_ratio'] = ardf['ipcc_citations'] / ardf['n_docs_lower']\n",
    "ardf['ipcc_ratio_wos'] = ardf['ipcc_citations'] / ardf['wos']\n",
    "ardf.tail(6)"
   ]
  },
  {
   "cell_type": "code",
   "execution_count": null,
   "metadata": {
    "collapsed": false,
    "deletable": true,
    "editable": true
   },
   "outputs": [],
   "source": [
    "fig = plt.figure(dpi=150)\n",
    "ardf.set_index('name')['ipcc_ratio_wos'].plot.bar()"
   ]
  },
  {
   "cell_type": "code",
   "execution_count": null,
   "metadata": {
    "collapsed": false,
    "deletable": true,
    "editable": true
   },
   "outputs": [],
   "source": [
    "fig = plt.figure(dpi=150)\n",
    "ardf.set_index('name')['ipcc_ratio'].plot.bar()"
   ]
  },
  {
   "cell_type": "code",
   "execution_count": null,
   "metadata": {
    "collapsed": true,
    "deletable": true,
    "editable": true
   },
   "outputs": [],
   "source": [
    "ar1 = AR.objects.get(name=\"AR1\")\n",
    "ar1.start=1988\n",
    "ar1.end=1989\n",
    "ar1.save()\n",
    "\n",
    "ar2 = AR.objects.get(name=\"AR2\")\n",
    "ar2.start=1990\n",
    "ar2.end=1994\n",
    "ar2.save()\n",
    "\n",
    "ar3 = AR.objects.get(name=\"AR3\")\n",
    "ar3.start=1996\n",
    "ar3.end=2000\n",
    "ar3.save()\n",
    "\n",
    "ar4 = AR.objects.get(name=\"AR4\")\n",
    "ar4.start=2001\n",
    "ar4.end=2006\n",
    "ar4.save()\n",
    "\n",
    "ar5 = AR.objects.get(name=\"AR5\")\n",
    "ar5.start=2007\n",
    "ar5.save()\n",
    "\n"
   ]
  },
  {
   "cell_type": "code",
   "execution_count": null,
   "metadata": {
    "collapsed": false,
    "deletable": true,
    "editable": true,
    "scrolled": false
   },
   "outputs": [],
   "source": [
    "fig = plt.figure(dpi=150)\n",
    "ardf.set_index('name')['n_docs_lower'].plot.bar()"
   ]
  },
  {
   "cell_type": "code",
   "execution_count": null,
   "metadata": {
    "collapsed": false,
    "deletable": true,
    "editable": true
   },
   "outputs": [],
   "source": [
    "fig = plt.figure(dpi=150)\n",
    "wsdocs['both_share'] = wsdocs['both'] / wsdocs['total']\n",
    "wsdocs[wsdocs['PY']<2005].set_index('PY')['both_share'].plot.bar()"
   ]
  }
 ],
 "metadata": {
  "kernelspec": {
   "display_name": "tmvenv",
   "language": "python",
   "name": "tmvenv"
  },
  "language_info": {
   "codemirror_mode": {
    "name": "ipython",
    "version": 3
   },
   "file_extension": ".py",
   "mimetype": "text/x-python",
   "name": "python",
   "nbconvert_exporter": "python",
   "pygments_lexer": "ipython3",
   "version": "3.4.3"
  }
 },
 "nbformat": 4,
 "nbformat_minor": 2
}
